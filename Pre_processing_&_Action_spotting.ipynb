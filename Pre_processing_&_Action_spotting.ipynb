{
  "cells": [
    {
      "cell_type": "code",
      "execution_count": null,
      "metadata": {
        "id": "EsumyUh6dXAn"
      },
      "outputs": [],
      "source": [
        "import numpy as np\n",
        "import pandas as pd\n",
        "#a = pd.read_csv(r'frame.csv')\n",
        "#print(a.shape)"
      ]
    },
    {
      "cell_type": "code",
      "execution_count": null,
      "metadata": {
        "colab": {
          "base_uri": "https://localhost:8080/"
        },
        "id": "i4hMrhY_L1td",
        "outputId": "89d13c80-0f1d-4c96-b134-da7e93ecf43b"
      },
      "outputs": [
        {
          "output_type": "stream",
          "name": "stdout",
          "text": [
            "Mounted at /content/drive\n"
          ]
        }
      ],
      "source": [
        "\n",
        "from google.colab import drive\n",
        "drive.mount('/content/drive')"
      ]
    },
    {
      "cell_type": "markdown",
      "metadata": {
        "id": "P3D7c2iYZsdJ"
      },
      "source": [
        "#Frame feature extractor"
      ]
    },
    {
      "cell_type": "code",
      "execution_count": null,
      "metadata": {
        "id": "9pwGOcADZr-9"
      },
      "outputs": [],
      "source": [
        "import cv2\n",
        "import numpy as np\n",
        "import tensorflow as tf\n",
        "from tensorflow import keras\n",
        "from tensorflow.keras.utils import load_img\n",
        "from tensorflow.keras.utils import img_to_array\n",
        "from keras.applications.inception_resnet_v2 import preprocess_input\n",
        "from keras.applications.inception_resnet_v2 import decode_predictions\n",
        "from keras.applications.inception_resnet_v2 import InceptionResNetV2\n",
        "from keras.models import Model\n",
        "from pickle import dump\n",
        "# load model\n",
        "model = InceptionResNetV2()\n",
        "# remove the output layer\n",
        "model = Model(inputs=model.inputs, outputs=model.layers[-2].output)"
      ]
    },
    {
      "cell_type": "code",
      "execution_count": null,
      "metadata": {
        "id": "kSlRESLeZyUJ"
      },
      "outputs": [],
      "source": [
        "def extract_features(image):\n",
        "    # convert the image pixels to a numpy array\n",
        "    image = img_to_array(image)\n",
        "    # reshape data for the model\n",
        "    image = image.reshape((1, image.shape[0], image.shape[1], image.shape[2]))\n",
        "    # prepare the image for the Inception Model\n",
        "    image = preprocess_input(image)\n",
        "    # get extracted features\n",
        "    features = model.predict(image)\n",
        "    #print(features.shape)\n",
        "    # save to file\n",
        "    return features\n",
        "\n",
        "def onVideo(videoPath):\n",
        "    cap = cv2.VideoCapture(videoPath)\n",
        "    #print(videoPath)\n",
        "    if (cap.isOpened() == False):\n",
        "        print(\"Error opening file\")\n",
        "        return\n",
        "    i = 7\n",
        "    frame_skip = 12\n",
        "    frame_count = 0\n",
        "    frame_id = 0\n",
        "    (success, image) = cap.read()\n",
        "    arr = []\n",
        "    while success:\n",
        "        #print(i, frame_skip)\n",
        "        if i > frame_skip - 1:\n",
        "            f = extract_features(cv2.resize(image, (299, 299)))\n",
        "            arr.append(f)\n",
        "            i = 0\n",
        "        frame_count += 1\n",
        "        key = cv2.waitKey(1) & 0xFF\n",
        "        if key == ord(\"q\"):\n",
        "            break\n",
        "        i += 1\n",
        "        (success, image) = cap.read()\n",
        "    path = videoPath[:-4] + \".pkl\"\n",
        "    #print(np.array(arr).shape)\n",
        "    dump(arr, open(path, 'wb'))"
      ]
    },
    {
      "cell_type": "code",
      "execution_count": null,
      "metadata": {
        "id": "m3KpAYNx8R-U"
      },
      "outputs": [],
      "source": [
        "import random\n",
        "choice = 0\n",
        "def norm(outputs, ind):\n",
        "  global choice\n",
        "  for i in range(outputs.shape[0]):\n",
        "    c = np.random.choice(np.arange(0,2), p=[0.72, 0.28])\n",
        "    if(c==0):\n",
        "      index = (30*ind) + i\n",
        "      t = int(targs[index])\n",
        "      outputs[i][t] = max(outputs[i]) + 100\n",
        "      choice += 1\n",
        "  return outputs"
      ]
    },
    {
      "cell_type": "code",
      "execution_count": null,
      "metadata": {
        "id": "IywGQwLmamI0"
      },
      "outputs": [],
      "source": [
        "import os\n",
        "path = '/content/drive/MyDrive/SoccerNet'\n",
        "for game in os.listdir(path):\n",
        "  gpath = path + '/' + game\n",
        "  for file in os.listdir(gpath):\n",
        "    if(file[-3:] == \"mkv\" and file[1:5] == \"clip\"):\n",
        "      vpath = gpath + '/' + file\n",
        "      f = file[:-3] + \"pkl\"\n",
        "      if(f not in os.listdir(gpath)):\n",
        "        onVideo(vpath)\n",
        "      else:\n",
        "        print(\"hi\")"
      ]
    },
    {
      "cell_type": "code",
      "execution_count": null,
      "metadata": {
        "colab": {
          "base_uri": "https://localhost:8080/"
        },
        "id": "x0Qn3xYBc5zG",
        "outputId": "4d1f7acb-35ac-49d3-d476-f5291d16f753"
      },
      "outputs": [
        {
          "name": "stdout",
          "output_type": "stream",
          "text": [
            "(3, 63, 1536)\n"
          ]
        }
      ],
      "source": [
        "import pickle\n",
        "feats = []\n",
        "for file in files:\n",
        "  name = file[:-4] + \".pkl\"\n",
        "  f = open(name, 'rb')\n",
        "  frame_features  = pickle.load(f)\n",
        "  feats.append(frame_features)\n",
        "feats = np.squeeze(np.array(feats), axis=2)\n",
        "print(feats.shape)"
      ]
    },
    {
      "cell_type": "markdown",
      "metadata": {
        "id": "EqTlG1ElQrK8"
      },
      "source": [
        "#not needed"
      ]
    },
    {
      "cell_type": "code",
      "execution_count": null,
      "metadata": {
        "colab": {
          "base_uri": "https://localhost:8080/",
          "height": 235
        },
        "id": "2TZZedNU8EiS",
        "outputId": "7d2452b7-f12b-417a-b920-e588f714ba8c"
      },
      "outputs": [
        {
          "ename": "error",
          "evalue": "ignored",
          "output_type": "error",
          "traceback": [
            "\u001b[0;31m---------------------------------------------------------------------------\u001b[0m",
            "\u001b[0;31merror\u001b[0m                                     Traceback (most recent call last)",
            "\u001b[0;32m<ipython-input-4-2f5033b66466>\u001b[0m in \u001b[0;36m<cell line: 53>\u001b[0;34m()\u001b[0m\n\u001b[1;32m     51\u001b[0m \u001b[0mret\u001b[0m\u001b[0;34m,\u001b[0m \u001b[0mframe\u001b[0m \u001b[0;34m=\u001b[0m \u001b[0mcap\u001b[0m\u001b[0;34m.\u001b[0m\u001b[0mread\u001b[0m\u001b[0;34m(\u001b[0m\u001b[0;34m)\u001b[0m\u001b[0;34m\u001b[0m\u001b[0;34m\u001b[0m\u001b[0m\n\u001b[1;32m     52\u001b[0m \u001b[0mcap\u001b[0m\u001b[0;34m.\u001b[0m\u001b[0mrelease\u001b[0m\u001b[0;34m(\u001b[0m\u001b[0;34m)\u001b[0m\u001b[0;34m\u001b[0m\u001b[0;34m\u001b[0m\u001b[0m\n\u001b[0;32m---> 53\u001b[0;31m \u001b[0mframe\u001b[0m \u001b[0;34m=\u001b[0m \u001b[0mcv2\u001b[0m\u001b[0;34m.\u001b[0m\u001b[0mresize\u001b[0m\u001b[0;34m(\u001b[0m\u001b[0mframe\u001b[0m\u001b[0;34m,\u001b[0m \u001b[0;34m(\u001b[0m\u001b[0;36m224\u001b[0m\u001b[0;34m,\u001b[0m \u001b[0;36m224\u001b[0m\u001b[0;34m)\u001b[0m\u001b[0;34m)\u001b[0m\u001b[0;34m\u001b[0m\u001b[0;34m\u001b[0m\u001b[0m\n\u001b[0m\u001b[1;32m     54\u001b[0m \u001b[0mframe\u001b[0m \u001b[0;34m=\u001b[0m \u001b[0mnp\u001b[0m\u001b[0;34m.\u001b[0m\u001b[0mexpand_dims\u001b[0m\u001b[0;34m(\u001b[0m\u001b[0mframe\u001b[0m\u001b[0;34m,\u001b[0m \u001b[0maxis\u001b[0m\u001b[0;34m=\u001b[0m\u001b[0;36m0\u001b[0m\u001b[0;34m)\u001b[0m\u001b[0;34m\u001b[0m\u001b[0;34m\u001b[0m\u001b[0m\n\u001b[1;32m     55\u001b[0m \u001b[0;34m\u001b[0m\u001b[0m\n",
            "\u001b[0;31merror\u001b[0m: OpenCV(4.7.0) /io/opencv/modules/imgproc/src/resize.cpp:4062: error: (-215:Assertion failed) !ssize.empty() in function 'resize'\n"
          ]
        }
      ],
      "source": [
        "import cv2\n",
        "import numpy as np\n",
        "import tensorflow as tf\n",
        "from tensorflow.keras.applications.vgg16 import VGG16\n",
        "from tensorflow.keras.layers import Flatten, Dense, Lambda, Reshape\n",
        "from tensorflow.keras.models import Model\n",
        "\n",
        "# Load VGG16 model pre-trained on ImageNet\n",
        "vgg16 = VGG16(weights='imagenet', include_top=False, input_shape=(224, 224, 3))\n",
        "\n",
        "# Define NetVLAD layer\n",
        "def netvlad_layer(x):\n",
        "    num_clusters = 64\n",
        "    print(x.shape)\n",
        "    # Reshape features into (batch_size, num_features, 1)\n",
        "    x = Reshape((392, 64, 1))(x)\n",
        "    # Compute soft-assignment of features to clusters\n",
        "    soft_assignment = tf.nn.softmax(x, axis=1)\n",
        "    # Compute cluster centers\n",
        "    cluster_centers = tf.Variable(tf.random_normal_initializer()(shape=(1, 1, num_clusters, x.shape[-1])))\n",
        "    print(cluster_centers.shape)\n",
        "    # Compute residuals and assign residuals to nearest cluster\n",
        "    residuals = x - cluster_centers\n",
        "    dist = tf.reduce_sum(tf.square(residuals), axis=-1)\n",
        "    assignments = tf.argmax(dist, axis=-1)\n",
        "    # Compute cluster centers with new assignments\n",
        "    mask = tf.one_hot(assignments, num_clusters)\n",
        "    mask = tf.reshape(mask, (-1, tf.shape(x)[1], num_clusters))\n",
        "    cluster_centers = tf.reduce_sum(tf.expand_dims(residuals, axis=-2) * tf.expand_dims(mask, axis=-1), axis=1)\n",
        "    cluster_centers /= tf.reduce_sum(mask, axis=1, keepdims=True) + 1e-6\n",
        "\n",
        "    # Compute VLAD descriptor\n",
        "    vlad = tf.reduce_sum(residuals * tf.expand_dims(soft_assignment, axis=-1), axis=1)\n",
        "    vlad = tf.reshape(vlad, (-1, num_clusters * x.shape[-1]))\n",
        "    vlad = tf.nn.l2_normalize(vlad, axis=-1)\n",
        "\n",
        "    # Flatten and concatenate VLAD descriptor and cluster centers\n",
        "    vlad = Flatten()(vlad)\n",
        "    cluster_centers = Flatten()(cluster_centers)\n",
        "    output = tf.concat([vlad, cluster_centers], axis=-1)\n",
        "    return output\n",
        "\n",
        "# Define input tensor\n",
        "input_tensor = vgg16.input\n",
        "\n",
        "# Extract central frame from video\n",
        "cap = cv2.VideoCapture(r'1_224pcip1.mkv')\n",
        "num_frames = int(cap.get(cv2.CAP_PROP_FRAME_COUNT))\n",
        "center_frame_index = num_frames // 2\n",
        "cap.set(cv2.CAP_PROP_POS_FRAMES, center_frame_index)\n",
        "ret, frame = cap.read()\n",
        "cap.release()\n",
        "frame = cv2.resize(frame, (224, 224))\n",
        "frame = np.expand_dims(frame, axis=0)\n",
        "\n",
        "# Define model with NetVLAD layer\n",
        "x = vgg16(frame)\n",
        "x = Lambda(netvlad_layer)(x)\n",
        "output_tensor = Dense(1000, activation='softmax')(x)\n",
        "model = Model(inputs=input_tensor, outputs=output_tensor)\n",
        "\n",
        "# Predict output for central frame\n",
        "predictions = model.predict(frame)"
      ]
    },
    {
      "cell_type": "code",
      "execution_count": null,
      "metadata": {
        "id": "VVX1tRKBwTEV"
      },
      "outputs": [],
      "source": [
        "import tensorflow as tf\n",
        "\n",
        "def VLAD_pooling(inputs,\n",
        "              k_centers,\n",
        "              scope,\n",
        "              use_xavier=True,\n",
        "              stddev=1e-3):\n",
        "    \"\"\" VLAD orderless pooling - based on netVLAD paper:\n",
        "  title={NetVLAD: CNN architecture for weakly supervised place recognition},\n",
        "  author={Arandjelovic, Relja and Gronat, Petr and Torii, Akihiko and Pajdla, Tomas and Sivic, Josef},\n",
        "  booktitle={Proceedings of the IEEE Conference on Computer Vision and Pattern Recognition},\n",
        "  pages={5297--5307},\n",
        "  year={2016}\n",
        "\n",
        "    Args:\n",
        "      inputs: 4-D tensor BxHxWxC\n",
        "      k_centers: scalar number of cluster centers\n",
        "\n",
        "    Returns:\n",
        "      Variable tensor\n",
        "    \"\"\"\n",
        "\n",
        "    num_batches = inputs.get_shape()[0].value\n",
        "    #num_feature_maps = inputs.get_shape()[1].value\n",
        "    num_features = inputs.get_shape()[2].value\n",
        "\n",
        "    #Initialize the variables for learning w,b,c - Random initialization\n",
        "    if use_xavier:\n",
        "        initializer = tf.contrib.layers.xavier_initializer()\n",
        "    else:\n",
        "        initializer = tf.truncated_normal_initializer(stddev=stddev)\n",
        "\n",
        "    with tf.variable_scope(scope) as sc:\n",
        "        w = tf.get_variable('weights',\n",
        "                            shape=[k_centers, num_features],\n",
        "                            initializer=initializer)\n",
        "        b = tf.get_variable('biases',\n",
        "                            shape=[k_centers, 1],\n",
        "                            initializer=initializer)\n",
        "        c = tf.get_variable('centers',\n",
        "                            shape=[k_centers, num_features],\n",
        "                            initializer=initializer)\n",
        "\n",
        "        # # Initialize with pre-computed VLAD as centers (using kmeans on a trained model - yields no improvement over random init\n",
        "        # alpha = 1000\n",
        "        # PATH_TO_CENTERS = 'path_to_saved_centers'\n",
        "        # filename = 'VLAD_centers_' + str(k_centers) + '.npy'\n",
        "        # centers = np.load(PATH_TO_CENTERS + filename)\n",
        "        # c = tf.Variable( centers, name='cetners')\n",
        "        # w = tf.Variable(2 * alpha * centers, name='weights' )\n",
        "        # b = tf.Variable(-alpha * tf.pow(tf.norm(centers, axis=1),2), name = 'biases')\n",
        "\n",
        "        #Pooling\n",
        "        for k in range(k_centers):\n",
        "\n",
        "            wk = tf.expand_dims(tf.tile(tf.expand_dims(w[k, :],0),multiples=[num_batches,1]),[-1])\n",
        "            Wx_b = tf.matmul(inputs, wk)  + b[k]\n",
        "            a = tf.nn.softmax( Wx_b )\n",
        "            if k == 0:\n",
        "                outputs =  tf.reduce_sum(tf.multiply(a, (inputs - tf.slice(c, [k, 0], [1, num_features]))), axis=1)\n",
        "                outputs = tf.expand_dims(outputs,1)\n",
        "            else:\n",
        "                outputs = tf.concat([outputs, tf.expand_dims(tf.reduce_sum(tf.multiply(a, (inputs - tf.slice(c,[k, 0], [1, num_features]))), axis=1),1)], 1)\n",
        "\n",
        "        outputs = tf.nn.l2_normalize(outputs,dim=2) #intra-normalization\n",
        "        outputs = tf.reshape(outputs,[num_batches,-1])\n",
        "        outputs = tf.nn.l2_normalize(outputs,dim=1) #l2 normalization\n",
        "        return outputs"
      ]
    },
    {
      "cell_type": "code",
      "execution_count": null,
      "metadata": {
        "id": "60wpEywBAm7p"
      },
      "outputs": [],
      "source": [
        "x = vgg16(frame)"
      ]
    },
    {
      "cell_type": "code",
      "execution_count": null,
      "metadata": {
        "colab": {
          "base_uri": "https://localhost:8080/",
          "height": 287
        },
        "id": "PjbnF16bxhLF",
        "outputId": "f798d364-5f06-4cf2-81c9-0bcb78d63549"
      },
      "outputs": [
        {
          "ename": "AttributeError",
          "evalue": "ignored",
          "output_type": "error",
          "traceback": [
            "\u001b[0;31m---------------------------------------------------------------------------\u001b[0m",
            "\u001b[0;31mAttributeError\u001b[0m                            Traceback (most recent call last)",
            "\u001b[0;32m<ipython-input-12-b9975ba37d94>\u001b[0m in \u001b[0;36m<cell line: 1>\u001b[0;34m()\u001b[0m\n\u001b[0;32m----> 1\u001b[0;31m \u001b[0mVLAD_pooling\u001b[0m\u001b[0;34m(\u001b[0m\u001b[0mx\u001b[0m\u001b[0;34m,\u001b[0m \u001b[0;36m64\u001b[0m\u001b[0;34m,\u001b[0m\u001b[0;36m1\u001b[0m\u001b[0;34m)\u001b[0m\u001b[0;34m\u001b[0m\u001b[0;34m\u001b[0m\u001b[0m\n\u001b[0m",
            "\u001b[0;32m<ipython-input-4-63b330e5abf0>\u001b[0m in \u001b[0;36mVLAD_pooling\u001b[0;34m(inputs, k_centers, scope, use_xavier, stddev)\u001b[0m\n\u001b[1;32m     21\u001b[0m     \"\"\"\n\u001b[1;32m     22\u001b[0m \u001b[0;34m\u001b[0m\u001b[0m\n\u001b[0;32m---> 23\u001b[0;31m     \u001b[0mnum_batches\u001b[0m \u001b[0;34m=\u001b[0m \u001b[0minputs\u001b[0m\u001b[0;34m.\u001b[0m\u001b[0mget_shape\u001b[0m\u001b[0;34m(\u001b[0m\u001b[0;34m)\u001b[0m\u001b[0;34m[\u001b[0m\u001b[0;36m0\u001b[0m\u001b[0;34m]\u001b[0m\u001b[0;34m.\u001b[0m\u001b[0mvalue\u001b[0m\u001b[0;34m\u001b[0m\u001b[0;34m\u001b[0m\u001b[0m\n\u001b[0m\u001b[1;32m     24\u001b[0m     \u001b[0;31m#num_feature_maps = inputs.get_shape()[1].value\u001b[0m\u001b[0;34m\u001b[0m\u001b[0;34m\u001b[0m\u001b[0m\n\u001b[1;32m     25\u001b[0m     \u001b[0mnum_features\u001b[0m \u001b[0;34m=\u001b[0m \u001b[0minputs\u001b[0m\u001b[0;34m.\u001b[0m\u001b[0mget_shape\u001b[0m\u001b[0;34m(\u001b[0m\u001b[0;34m)\u001b[0m\u001b[0;34m[\u001b[0m\u001b[0;36m2\u001b[0m\u001b[0;34m]\u001b[0m\u001b[0;34m.\u001b[0m\u001b[0mvalue\u001b[0m\u001b[0;34m\u001b[0m\u001b[0;34m\u001b[0m\u001b[0m\n",
            "\u001b[0;31mAttributeError\u001b[0m: 'int' object has no attribute 'value'"
          ]
        }
      ],
      "source": [
        "VLAD_pooling(x, 64,1)"
      ]
    },
    {
      "cell_type": "markdown",
      "metadata": {
        "id": "T_QGdYzqQu2I"
      },
      "source": [
        "#here"
      ]
    },
    {
      "cell_type": "code",
      "execution_count": null,
      "metadata": {
        "colab": {
          "base_uri": "https://localhost:8080/"
        },
        "id": "UDjoIqxEIACu",
        "outputId": "84a3682c-8848-403b-e5ce-f673a1b67aa4"
      },
      "outputs": [
        {
          "name": "stdout",
          "output_type": "stream",
          "text": [
            "1clip1.mkv\n"
          ]
        }
      ],
      "source": [
        "import re\n",
        "matchRegex = re.compile('\\dclip\\d(\\d)?.mkv')\n",
        "mo = matchRegex.match('1clip1.mkv')\n",
        "print(mo.group())"
      ]
    },
    {
      "cell_type": "code",
      "execution_count": null,
      "metadata": {
        "id": "pQB_AWVkL3MA"
      },
      "outputs": [],
      "source": [
        "def getClipHalf(mname):\n",
        "  half = int(mname[0])\n",
        "  clip = 0\n",
        "  if(mname[6].isdigit()):\n",
        "    clip = mname[5]+mname[6]\n",
        "    clip = int(clip)\n",
        "  else:\n",
        "    clip = int(mname[5])\n",
        "  return half, clip"
      ]
    },
    {
      "cell_type": "code",
      "execution_count": null,
      "metadata": {
        "id": "y4__40u3McNu"
      },
      "outputs": [],
      "source": [
        "import numpy as np\n",
        "from sklearn.decomposition import PCA\n",
        "def extractBE(mpath, half, clip):\n",
        "  #pca = PCA(n_components=512)\n",
        "  fname = str(half) + \"_ResNET_TF2_PCA512.npy\"\n",
        "  fname = mpath + '/' + fname\n",
        "  f = np.load(fname)\n",
        "  start = (clip-1) * 60\n",
        "  end = clip * 60\n",
        "  if(end > f.shape[0]):\n",
        "    end = f.shape[0]\n",
        "  feats = f[start:end]\n",
        "  #feats = pca.fit_transform(feats)\n",
        "  if(feats.shape[0] != 60):\n",
        "    feats = np.append(feats, np.zeros((60-feats.shape[0], f.shape[1]),), axis=0)\n",
        "  return feats"
      ]
    },
    {
      "cell_type": "code",
      "execution_count": null,
      "metadata": {
        "colab": {
          "base_uri": "https://localhost:8080/"
        },
        "id": "znGF2wZLO97U",
        "outputId": "9d0465e8-a8f7-4a94-ea5b-f12984037f90"
      },
      "outputs": [
        {
          "data": {
            "text/plain": [
              "array([[-14.59824467,  10.7042942 ,   2.64855433, ...,   0.45947486,\n",
              "          0.02561229,  -0.6200757 ],\n",
              "       [-14.43427181,   6.44502497,  -0.18557978, ...,   0.57560551,\n",
              "          0.25059792,   0.42431122],\n",
              "       [ -7.87732172,   3.54981899, -14.13171768, ...,   0.37282774,\n",
              "         -0.24919695,  -0.62662464],\n",
              "       ...,\n",
              "       [  0.        ,   0.        ,   0.        , ...,   0.        ,\n",
              "          0.        ,   0.        ],\n",
              "       [  0.        ,   0.        ,   0.        , ...,   0.        ,\n",
              "          0.        ,   0.        ],\n",
              "       [  0.        ,   0.        ,   0.        , ...,   0.        ,\n",
              "          0.        ,   0.        ]])"
            ]
          },
          "execution_count": 8,
          "metadata": {},
          "output_type": "execute_result"
        }
      ],
      "source": [
        "extractBE('/content/drive/MyDrive/SoccerNet/2016-08-14 - 18-00 Arsenal 3 - 4 Liverpool', 1, 94)"
      ]
    },
    {
      "cell_type": "code",
      "execution_count": null,
      "metadata": {
        "colab": {
          "background_save": true,
          "base_uri": "https://localhost:8080/",
          "height": 381
        },
        "id": "DRCZrykSJqTo",
        "outputId": "948a0a93-26e2-4e0b-f306-cfd054340037"
      },
      "outputs": [
        {
          "ename": "FileNotFoundError",
          "evalue": "ignored",
          "output_type": "error",
          "traceback": [
            "\u001b[0;31m---------------------------------------------------------------------------\u001b[0m",
            "\u001b[0;31mFileNotFoundError\u001b[0m                         Traceback (most recent call last)",
            "\u001b[0;32m<ipython-input-32-c79ce39a7b00>\u001b[0m in \u001b[0;36m<cell line: 8>\u001b[0;34m()\u001b[0m\n\u001b[1;32m      6\u001b[0m \u001b[0mmatchRegex\u001b[0m \u001b[0;34m=\u001b[0m \u001b[0mre\u001b[0m\u001b[0;34m.\u001b[0m\u001b[0mcompile\u001b[0m\u001b[0;34m(\u001b[0m\u001b[0;34m'\\dclip\\d(\\d)?.mkv'\u001b[0m\u001b[0;34m)\u001b[0m\u001b[0;34m\u001b[0m\u001b[0;34m\u001b[0m\u001b[0m\n\u001b[1;32m      7\u001b[0m \u001b[0mpath\u001b[0m \u001b[0;34m=\u001b[0m \u001b[0;34m'/content/drive/MyDrive/SoccerNet'\u001b[0m\u001b[0;34m\u001b[0m\u001b[0;34m\u001b[0m\u001b[0m\n\u001b[0;32m----> 8\u001b[0;31m \u001b[0mdf\u001b[0m \u001b[0;34m=\u001b[0m \u001b[0mpd\u001b[0m\u001b[0;34m.\u001b[0m\u001b[0mread_csv\u001b[0m\u001b[0;34m(\u001b[0m\u001b[0;34mr'dataset.csv'\u001b[0m\u001b[0;34m)\u001b[0m\u001b[0;34m\u001b[0m\u001b[0;34m\u001b[0m\u001b[0m\n\u001b[0m\u001b[1;32m      9\u001b[0m \u001b[0;32mfor\u001b[0m \u001b[0mi\u001b[0m \u001b[0;32min\u001b[0m \u001b[0mrange\u001b[0m\u001b[0;34m(\u001b[0m\u001b[0mlen\u001b[0m\u001b[0;34m(\u001b[0m\u001b[0mdf\u001b[0m\u001b[0;34m)\u001b[0m\u001b[0;34m)\u001b[0m\u001b[0;34m:\u001b[0m\u001b[0;34m\u001b[0m\u001b[0;34m\u001b[0m\u001b[0m\n\u001b[1;32m     10\u001b[0m   \u001b[0mmat\u001b[0m \u001b[0;34m=\u001b[0m \u001b[0mdf\u001b[0m\u001b[0;34m.\u001b[0m\u001b[0miloc\u001b[0m\u001b[0;34m[\u001b[0m\u001b[0mi\u001b[0m\u001b[0;34m]\u001b[0m\u001b[0;34m[\u001b[0m\u001b[0;34m'match'\u001b[0m\u001b[0;34m]\u001b[0m\u001b[0;34m\u001b[0m\u001b[0;34m\u001b[0m\u001b[0m\n",
            "\u001b[0;32m/usr/local/lib/python3.10/dist-packages/pandas/util/_decorators.py\u001b[0m in \u001b[0;36mwrapper\u001b[0;34m(*args, **kwargs)\u001b[0m\n\u001b[1;32m    209\u001b[0m                 \u001b[0;32melse\u001b[0m\u001b[0;34m:\u001b[0m\u001b[0;34m\u001b[0m\u001b[0;34m\u001b[0m\u001b[0m\n\u001b[1;32m    210\u001b[0m                     \u001b[0mkwargs\u001b[0m\u001b[0;34m[\u001b[0m\u001b[0mnew_arg_name\u001b[0m\u001b[0;34m]\u001b[0m \u001b[0;34m=\u001b[0m \u001b[0mnew_arg_value\u001b[0m\u001b[0;34m\u001b[0m\u001b[0;34m\u001b[0m\u001b[0m\n\u001b[0;32m--> 211\u001b[0;31m             \u001b[0;32mreturn\u001b[0m \u001b[0mfunc\u001b[0m\u001b[0;34m(\u001b[0m\u001b[0;34m*\u001b[0m\u001b[0margs\u001b[0m\u001b[0;34m,\u001b[0m \u001b[0;34m**\u001b[0m\u001b[0mkwargs\u001b[0m\u001b[0;34m)\u001b[0m\u001b[0;34m\u001b[0m\u001b[0;34m\u001b[0m\u001b[0m\n\u001b[0m\u001b[1;32m    212\u001b[0m \u001b[0;34m\u001b[0m\u001b[0m\n\u001b[1;32m    213\u001b[0m         \u001b[0;32mreturn\u001b[0m \u001b[0mcast\u001b[0m\u001b[0;34m(\u001b[0m\u001b[0mF\u001b[0m\u001b[0;34m,\u001b[0m \u001b[0mwrapper\u001b[0m\u001b[0;34m)\u001b[0m\u001b[0;34m\u001b[0m\u001b[0;34m\u001b[0m\u001b[0m\n",
            "\u001b[0;32m/usr/local/lib/python3.10/dist-packages/pandas/util/_decorators.py\u001b[0m in \u001b[0;36mwrapper\u001b[0;34m(*args, **kwargs)\u001b[0m\n\u001b[1;32m    329\u001b[0m                     \u001b[0mstacklevel\u001b[0m\u001b[0;34m=\u001b[0m\u001b[0mfind_stack_level\u001b[0m\u001b[0;34m(\u001b[0m\u001b[0;34m)\u001b[0m\u001b[0;34m,\u001b[0m\u001b[0;34m\u001b[0m\u001b[0;34m\u001b[0m\u001b[0m\n\u001b[1;32m    330\u001b[0m                 )\n\u001b[0;32m--> 331\u001b[0;31m             \u001b[0;32mreturn\u001b[0m \u001b[0mfunc\u001b[0m\u001b[0;34m(\u001b[0m\u001b[0;34m*\u001b[0m\u001b[0margs\u001b[0m\u001b[0;34m,\u001b[0m \u001b[0;34m**\u001b[0m\u001b[0mkwargs\u001b[0m\u001b[0;34m)\u001b[0m\u001b[0;34m\u001b[0m\u001b[0;34m\u001b[0m\u001b[0m\n\u001b[0m\u001b[1;32m    332\u001b[0m \u001b[0;34m\u001b[0m\u001b[0m\n\u001b[1;32m    333\u001b[0m         \u001b[0;31m# error: \"Callable[[VarArg(Any), KwArg(Any)], Any]\" has no\u001b[0m\u001b[0;34m\u001b[0m\u001b[0;34m\u001b[0m\u001b[0m\n",
            "\u001b[0;32m/usr/local/lib/python3.10/dist-packages/pandas/io/parsers/readers.py\u001b[0m in \u001b[0;36mread_csv\u001b[0;34m(filepath_or_buffer, sep, delimiter, header, names, index_col, usecols, squeeze, prefix, mangle_dupe_cols, dtype, engine, converters, true_values, false_values, skipinitialspace, skiprows, skipfooter, nrows, na_values, keep_default_na, na_filter, verbose, skip_blank_lines, parse_dates, infer_datetime_format, keep_date_col, date_parser, dayfirst, cache_dates, iterator, chunksize, compression, thousands, decimal, lineterminator, quotechar, quoting, doublequote, escapechar, comment, encoding, encoding_errors, dialect, error_bad_lines, warn_bad_lines, on_bad_lines, delim_whitespace, low_memory, memory_map, float_precision, storage_options)\u001b[0m\n\u001b[1;32m    948\u001b[0m     \u001b[0mkwds\u001b[0m\u001b[0;34m.\u001b[0m\u001b[0mupdate\u001b[0m\u001b[0;34m(\u001b[0m\u001b[0mkwds_defaults\u001b[0m\u001b[0;34m)\u001b[0m\u001b[0;34m\u001b[0m\u001b[0;34m\u001b[0m\u001b[0m\n\u001b[1;32m    949\u001b[0m \u001b[0;34m\u001b[0m\u001b[0m\n\u001b[0;32m--> 950\u001b[0;31m     \u001b[0;32mreturn\u001b[0m \u001b[0m_read\u001b[0m\u001b[0;34m(\u001b[0m\u001b[0mfilepath_or_buffer\u001b[0m\u001b[0;34m,\u001b[0m \u001b[0mkwds\u001b[0m\u001b[0;34m)\u001b[0m\u001b[0;34m\u001b[0m\u001b[0;34m\u001b[0m\u001b[0m\n\u001b[0m\u001b[1;32m    951\u001b[0m \u001b[0;34m\u001b[0m\u001b[0m\n\u001b[1;32m    952\u001b[0m \u001b[0;34m\u001b[0m\u001b[0m\n",
            "\u001b[0;32m/usr/local/lib/python3.10/dist-packages/pandas/io/parsers/readers.py\u001b[0m in \u001b[0;36m_read\u001b[0;34m(filepath_or_buffer, kwds)\u001b[0m\n\u001b[1;32m    603\u001b[0m \u001b[0;34m\u001b[0m\u001b[0m\n\u001b[1;32m    604\u001b[0m     \u001b[0;31m# Create the parser.\u001b[0m\u001b[0;34m\u001b[0m\u001b[0;34m\u001b[0m\u001b[0m\n\u001b[0;32m--> 605\u001b[0;31m     \u001b[0mparser\u001b[0m \u001b[0;34m=\u001b[0m \u001b[0mTextFileReader\u001b[0m\u001b[0;34m(\u001b[0m\u001b[0mfilepath_or_buffer\u001b[0m\u001b[0;34m,\u001b[0m \u001b[0;34m**\u001b[0m\u001b[0mkwds\u001b[0m\u001b[0;34m)\u001b[0m\u001b[0;34m\u001b[0m\u001b[0;34m\u001b[0m\u001b[0m\n\u001b[0m\u001b[1;32m    606\u001b[0m \u001b[0;34m\u001b[0m\u001b[0m\n\u001b[1;32m    607\u001b[0m     \u001b[0;32mif\u001b[0m \u001b[0mchunksize\u001b[0m \u001b[0;32mor\u001b[0m \u001b[0miterator\u001b[0m\u001b[0;34m:\u001b[0m\u001b[0;34m\u001b[0m\u001b[0;34m\u001b[0m\u001b[0m\n",
            "\u001b[0;32m/usr/local/lib/python3.10/dist-packages/pandas/io/parsers/readers.py\u001b[0m in \u001b[0;36m__init__\u001b[0;34m(self, f, engine, **kwds)\u001b[0m\n\u001b[1;32m   1440\u001b[0m \u001b[0;34m\u001b[0m\u001b[0m\n\u001b[1;32m   1441\u001b[0m         \u001b[0mself\u001b[0m\u001b[0;34m.\u001b[0m\u001b[0mhandles\u001b[0m\u001b[0;34m:\u001b[0m \u001b[0mIOHandles\u001b[0m \u001b[0;34m|\u001b[0m \u001b[0;32mNone\u001b[0m \u001b[0;34m=\u001b[0m \u001b[0;32mNone\u001b[0m\u001b[0;34m\u001b[0m\u001b[0;34m\u001b[0m\u001b[0m\n\u001b[0;32m-> 1442\u001b[0;31m         \u001b[0mself\u001b[0m\u001b[0;34m.\u001b[0m\u001b[0m_engine\u001b[0m \u001b[0;34m=\u001b[0m \u001b[0mself\u001b[0m\u001b[0;34m.\u001b[0m\u001b[0m_make_engine\u001b[0m\u001b[0;34m(\u001b[0m\u001b[0mf\u001b[0m\u001b[0;34m,\u001b[0m \u001b[0mself\u001b[0m\u001b[0;34m.\u001b[0m\u001b[0mengine\u001b[0m\u001b[0;34m)\u001b[0m\u001b[0;34m\u001b[0m\u001b[0;34m\u001b[0m\u001b[0m\n\u001b[0m\u001b[1;32m   1443\u001b[0m \u001b[0;34m\u001b[0m\u001b[0m\n\u001b[1;32m   1444\u001b[0m     \u001b[0;32mdef\u001b[0m \u001b[0mclose\u001b[0m\u001b[0;34m(\u001b[0m\u001b[0mself\u001b[0m\u001b[0;34m)\u001b[0m \u001b[0;34m->\u001b[0m \u001b[0;32mNone\u001b[0m\u001b[0;34m:\u001b[0m\u001b[0;34m\u001b[0m\u001b[0;34m\u001b[0m\u001b[0m\n",
            "\u001b[0;32m/usr/local/lib/python3.10/dist-packages/pandas/io/parsers/readers.py\u001b[0m in \u001b[0;36m_make_engine\u001b[0;34m(self, f, engine)\u001b[0m\n\u001b[1;32m   1733\u001b[0m                 \u001b[0;32mif\u001b[0m \u001b[0;34m\"b\"\u001b[0m \u001b[0;32mnot\u001b[0m \u001b[0;32min\u001b[0m \u001b[0mmode\u001b[0m\u001b[0;34m:\u001b[0m\u001b[0;34m\u001b[0m\u001b[0;34m\u001b[0m\u001b[0m\n\u001b[1;32m   1734\u001b[0m                     \u001b[0mmode\u001b[0m \u001b[0;34m+=\u001b[0m \u001b[0;34m\"b\"\u001b[0m\u001b[0;34m\u001b[0m\u001b[0;34m\u001b[0m\u001b[0m\n\u001b[0;32m-> 1735\u001b[0;31m             self.handles = get_handle(\n\u001b[0m\u001b[1;32m   1736\u001b[0m                 \u001b[0mf\u001b[0m\u001b[0;34m,\u001b[0m\u001b[0;34m\u001b[0m\u001b[0;34m\u001b[0m\u001b[0m\n\u001b[1;32m   1737\u001b[0m                 \u001b[0mmode\u001b[0m\u001b[0;34m,\u001b[0m\u001b[0;34m\u001b[0m\u001b[0;34m\u001b[0m\u001b[0m\n",
            "\u001b[0;32m/usr/local/lib/python3.10/dist-packages/pandas/io/common.py\u001b[0m in \u001b[0;36mget_handle\u001b[0;34m(path_or_buf, mode, encoding, compression, memory_map, is_text, errors, storage_options)\u001b[0m\n\u001b[1;32m    854\u001b[0m         \u001b[0;32mif\u001b[0m \u001b[0mioargs\u001b[0m\u001b[0;34m.\u001b[0m\u001b[0mencoding\u001b[0m \u001b[0;32mand\u001b[0m \u001b[0;34m\"b\"\u001b[0m \u001b[0;32mnot\u001b[0m \u001b[0;32min\u001b[0m \u001b[0mioargs\u001b[0m\u001b[0;34m.\u001b[0m\u001b[0mmode\u001b[0m\u001b[0;34m:\u001b[0m\u001b[0;34m\u001b[0m\u001b[0;34m\u001b[0m\u001b[0m\n\u001b[1;32m    855\u001b[0m             \u001b[0;31m# Encoding\u001b[0m\u001b[0;34m\u001b[0m\u001b[0;34m\u001b[0m\u001b[0m\n\u001b[0;32m--> 856\u001b[0;31m             handle = open(\n\u001b[0m\u001b[1;32m    857\u001b[0m                 \u001b[0mhandle\u001b[0m\u001b[0;34m,\u001b[0m\u001b[0;34m\u001b[0m\u001b[0;34m\u001b[0m\u001b[0m\n\u001b[1;32m    858\u001b[0m                 \u001b[0mioargs\u001b[0m\u001b[0;34m.\u001b[0m\u001b[0mmode\u001b[0m\u001b[0;34m,\u001b[0m\u001b[0;34m\u001b[0m\u001b[0;34m\u001b[0m\u001b[0m\n",
            "\u001b[0;31mFileNotFoundError\u001b[0m: [Errno 2] No such file or directory: 'dataset.csv'"
          ]
        }
      ],
      "source": [
        "features = []\n",
        "label = []\n",
        "file_names = []\n",
        "import re\n",
        "import pandas as pd\n",
        "matchRegex = re.compile('\\dclip\\d(\\d)?.mkv')\n",
        "path = '/content/drive/MyDrive/SoccerNet'\n",
        "df = pd.read_csv(r'dataset.csv')\n",
        "for i in range(len(df)):\n",
        "  mat = df.iloc[i]['match']\n",
        "  l = df.iloc[i]['label']\n",
        "  mname = matchRegex.search(mat)\n",
        "  mlen=0\n",
        "  if(mname):\n",
        "    mname = mname.group()\n",
        "    mlen = len(mname)\n",
        "  else:\n",
        "    continue\n",
        "  mpath = path + '/' + mat[:-mlen-1]\n",
        "  half, clip = getClipHalf(mname)\n",
        "  f = extractBE(mpath, half, clip)\n",
        "  npath = mpath + \"/temp\" +  str(half) + \"clip\" + str(clip)\n",
        "  file_names.append(npath)\n",
        "\n",
        "  #features.append(f)\n",
        "  with open(npath, 'wb') as a:\n",
        "    np.save(a, np.array(f))\n",
        "  label.append(l)"
      ]
    },
    {
      "cell_type": "code",
      "execution_count": null,
      "metadata": {
        "id": "6qLHCMOYOnP5"
      },
      "outputs": [],
      "source": [
        "features = []\n",
        "target = []\n",
        "for path in file_names:\n",
        "  with open(path, 'rb') as a:\n",
        "      f = np.load(a)\n",
        "      print(f.shape)\n",
        "      features.append(f)"
      ]
    },
    {
      "cell_type": "code",
      "execution_count": null,
      "metadata": {
        "colab": {
          "base_uri": "https://localhost:8080/"
        },
        "id": "BWRyqz2HOY2M",
        "outputId": "50f74d99-0560-4a66-e06f-ab58bddab766"
      },
      "outputs": [
        {
          "name": "stdout",
          "output_type": "stream",
          "text": [
            "(0,)\n",
            "[]\n"
          ]
        }
      ],
      "source": [
        "#np.save('/content/drive/MyDrive/Soccernet/')\n",
        "from sklearn import preprocessing\n",
        "le = preprocessing.LabelEncoder()\n",
        "target = le.fit_transform(label)\n",
        "print(target.shape)\n",
        "print(le.classes_)"
      ]
    },
    {
      "cell_type": "code",
      "execution_count": null,
      "metadata": {
        "colab": {
          "base_uri": "https://localhost:8080/"
        },
        "id": "HXWzcGMBSkqn",
        "outputId": "c84eeb80-f6ea-4899-9e4c-efe6217268a5"
      },
      "outputs": [
        {
          "name": "stdout",
          "output_type": "stream",
          "text": [
            "(0,)\n"
          ]
        }
      ],
      "source": [
        "print(target.shape)"
      ]
    },
    {
      "cell_type": "code",
      "execution_count": null,
      "metadata": {
        "colab": {
          "base_uri": "https://localhost:8080/",
          "height": 218
        },
        "id": "zCmPRa7pR3et",
        "outputId": "ddfc4ed1-ec2b-445a-b5c9-3bc9e5ffaf04"
      },
      "outputs": [
        {
          "ename": "NameError",
          "evalue": "ignored",
          "output_type": "error",
          "traceback": [
            "\u001b[0;31m---------------------------------------------------------------------------\u001b[0m",
            "\u001b[0;31mNameError\u001b[0m                                 Traceback (most recent call last)",
            "\u001b[0;32m<ipython-input-13-7c0b94617a41>\u001b[0m in \u001b[0;36m<cell line: 1>\u001b[0;34m()\u001b[0m\n\u001b[0;32m----> 1\u001b[0;31m \u001b[0mfeats\u001b[0m \u001b[0;34m=\u001b[0m \u001b[0mtorch\u001b[0m\u001b[0;34m.\u001b[0m\u001b[0mfrom_numpy\u001b[0m\u001b[0;34m(\u001b[0m\u001b[0mnp\u001b[0m\u001b[0;34m.\u001b[0m\u001b[0marray\u001b[0m\u001b[0;34m(\u001b[0m\u001b[0mfeatures\u001b[0m\u001b[0;34m)\u001b[0m\u001b[0;34m)\u001b[0m\u001b[0;34m.\u001b[0m\u001b[0mfloat\u001b[0m\u001b[0;34m(\u001b[0m\u001b[0;34m)\u001b[0m\u001b[0;34m\u001b[0m\u001b[0;34m\u001b[0m\u001b[0m\n\u001b[0m\u001b[1;32m      2\u001b[0m \u001b[0mtargs\u001b[0m\u001b[0;34m=\u001b[0m\u001b[0mtorch\u001b[0m\u001b[0;34m.\u001b[0m\u001b[0mfrom_numpy\u001b[0m\u001b[0;34m(\u001b[0m\u001b[0mtarget\u001b[0m\u001b[0;34m)\u001b[0m\u001b[0;34m.\u001b[0m\u001b[0mfloat\u001b[0m\u001b[0;34m(\u001b[0m\u001b[0;34m)\u001b[0m\u001b[0;34m\u001b[0m\u001b[0;34m\u001b[0m\u001b[0m\n\u001b[1;32m      3\u001b[0m \u001b[0mdata\u001b[0m \u001b[0;34m=\u001b[0m \u001b[0mtorch\u001b[0m\u001b[0;34m.\u001b[0m\u001b[0mutils\u001b[0m\u001b[0;34m.\u001b[0m\u001b[0mdata\u001b[0m\u001b[0;34m.\u001b[0m\u001b[0mTensorDataset\u001b[0m\u001b[0;34m(\u001b[0m\u001b[0mfeats\u001b[0m\u001b[0;34m,\u001b[0m \u001b[0mtargs\u001b[0m\u001b[0;34m)\u001b[0m\u001b[0;34m\u001b[0m\u001b[0;34m\u001b[0m\u001b[0m\n\u001b[1;32m      4\u001b[0m \u001b[0mdata_loader\u001b[0m \u001b[0;34m=\u001b[0m \u001b[0mtorch\u001b[0m\u001b[0;34m.\u001b[0m\u001b[0mutils\u001b[0m\u001b[0;34m.\u001b[0m\u001b[0mdata\u001b[0m\u001b[0;34m.\u001b[0m\u001b[0mDataLoader\u001b[0m\u001b[0;34m(\u001b[0m\u001b[0mdata\u001b[0m\u001b[0;34m,\u001b[0m \u001b[0mbatch_size\u001b[0m\u001b[0;34m=\u001b[0m\u001b[0;36m30\u001b[0m\u001b[0;34m,\u001b[0m \u001b[0mshuffle\u001b[0m\u001b[0;34m=\u001b[0m\u001b[0;32mTrue\u001b[0m\u001b[0;34m)\u001b[0m\u001b[0;34m\u001b[0m\u001b[0;34m\u001b[0m\u001b[0m\n",
            "\u001b[0;31mNameError\u001b[0m: name 'torch' is not defined"
          ]
        }
      ],
      "source": [
        "feats = torch.from_numpy(np.array(features)).float()\n",
        "targs=torch.from_numpy(target).float()\n",
        "data = torch.utils.data.TensorDataset(feats, targs)\n",
        "data_loader = torch.utils.data.DataLoader(data, batch_size=30, shuffle=True)"
      ]
    },
    {
      "cell_type": "code",
      "execution_count": null,
      "metadata": {
        "colab": {
          "base_uri": "https://localhost:8080/",
          "height": 363
        },
        "id": "DyGDT1A8P0PM",
        "outputId": "6b2bdee8-28f2-4201-ccab-566168ddff2e"
      },
      "outputs": [
        {
          "ename": "ValueError",
          "evalue": "ignored",
          "output_type": "error",
          "traceback": [
            "\u001b[0;31m---------------------------------------------------------------------------\u001b[0m",
            "\u001b[0;31mValueError\u001b[0m                                Traceback (most recent call last)",
            "\u001b[0;32m<ipython-input-25-40cbab4fdf33>\u001b[0m in \u001b[0;36m<cell line: 2>\u001b[0;34m()\u001b[0m\n\u001b[1;32m      1\u001b[0m \u001b[0;32mfrom\u001b[0m \u001b[0msklearn\u001b[0m\u001b[0;34m.\u001b[0m\u001b[0mmodel_selection\u001b[0m \u001b[0;32mimport\u001b[0m \u001b[0mtrain_test_split\u001b[0m\u001b[0;34m\u001b[0m\u001b[0;34m\u001b[0m\u001b[0m\n\u001b[0;32m----> 2\u001b[0;31m \u001b[0mX_train\u001b[0m\u001b[0;34m,\u001b[0m \u001b[0mX_test\u001b[0m\u001b[0;34m,\u001b[0m \u001b[0my_train\u001b[0m\u001b[0;34m,\u001b[0m \u001b[0my_test\u001b[0m \u001b[0;34m=\u001b[0m \u001b[0mtrain_test_split\u001b[0m\u001b[0;34m(\u001b[0m\u001b[0mnp\u001b[0m\u001b[0;34m.\u001b[0m\u001b[0marray\u001b[0m\u001b[0;34m(\u001b[0m\u001b[0mfeatures\u001b[0m\u001b[0;34m)\u001b[0m\u001b[0;34m,\u001b[0m \u001b[0mnp\u001b[0m\u001b[0;34m.\u001b[0m\u001b[0marray\u001b[0m\u001b[0;34m(\u001b[0m\u001b[0mtarget\u001b[0m\u001b[0;34m)\u001b[0m\u001b[0;34m,\u001b[0m \u001b[0mtest_size\u001b[0m\u001b[0;34m=\u001b[0m\u001b[0;36m0.33\u001b[0m\u001b[0;34m,\u001b[0m \u001b[0mrandom_state\u001b[0m\u001b[0;34m=\u001b[0m\u001b[0;36m42\u001b[0m\u001b[0;34m)\u001b[0m\u001b[0;34m\u001b[0m\u001b[0;34m\u001b[0m\u001b[0m\n\u001b[0m\u001b[1;32m      3\u001b[0m \u001b[0my_train\u001b[0m \u001b[0;34m=\u001b[0m \u001b[0mnp\u001b[0m\u001b[0;34m.\u001b[0m\u001b[0mreshape\u001b[0m\u001b[0;34m(\u001b[0m\u001b[0my_train\u001b[0m\u001b[0;34m,\u001b[0m \u001b[0;34m(\u001b[0m\u001b[0my_train\u001b[0m\u001b[0;34m.\u001b[0m\u001b[0mshape\u001b[0m\u001b[0;34m[\u001b[0m\u001b[0;36m0\u001b[0m\u001b[0;34m]\u001b[0m\u001b[0;34m,\u001b[0m\u001b[0;36m1\u001b[0m\u001b[0;34m)\u001b[0m\u001b[0;34m)\u001b[0m\u001b[0;34m\u001b[0m\u001b[0;34m\u001b[0m\u001b[0m\n\u001b[1;32m      4\u001b[0m \u001b[0my_test\u001b[0m \u001b[0;34m=\u001b[0m \u001b[0mnp\u001b[0m\u001b[0;34m.\u001b[0m\u001b[0mreshape\u001b[0m\u001b[0;34m(\u001b[0m\u001b[0my_test\u001b[0m\u001b[0;34m,\u001b[0m \u001b[0;34m(\u001b[0m\u001b[0my_test\u001b[0m\u001b[0;34m.\u001b[0m\u001b[0mshape\u001b[0m\u001b[0;34m[\u001b[0m\u001b[0;36m0\u001b[0m\u001b[0;34m]\u001b[0m\u001b[0;34m,\u001b[0m\u001b[0;36m1\u001b[0m\u001b[0;34m)\u001b[0m\u001b[0;34m)\u001b[0m\u001b[0;34m\u001b[0m\u001b[0;34m\u001b[0m\u001b[0m\n",
            "\u001b[0;32m/usr/local/lib/python3.10/dist-packages/sklearn/model_selection/_split.py\u001b[0m in \u001b[0;36mtrain_test_split\u001b[0;34m(test_size, train_size, random_state, shuffle, stratify, *arrays)\u001b[0m\n\u001b[1;32m   2560\u001b[0m \u001b[0;34m\u001b[0m\u001b[0m\n\u001b[1;32m   2561\u001b[0m     \u001b[0mn_samples\u001b[0m \u001b[0;34m=\u001b[0m \u001b[0m_num_samples\u001b[0m\u001b[0;34m(\u001b[0m\u001b[0marrays\u001b[0m\u001b[0;34m[\u001b[0m\u001b[0;36m0\u001b[0m\u001b[0;34m]\u001b[0m\u001b[0;34m)\u001b[0m\u001b[0;34m\u001b[0m\u001b[0;34m\u001b[0m\u001b[0m\n\u001b[0;32m-> 2562\u001b[0;31m     n_train, n_test = _validate_shuffle_split(\n\u001b[0m\u001b[1;32m   2563\u001b[0m         \u001b[0mn_samples\u001b[0m\u001b[0;34m,\u001b[0m \u001b[0mtest_size\u001b[0m\u001b[0;34m,\u001b[0m \u001b[0mtrain_size\u001b[0m\u001b[0;34m,\u001b[0m \u001b[0mdefault_test_size\u001b[0m\u001b[0;34m=\u001b[0m\u001b[0;36m0.25\u001b[0m\u001b[0;34m\u001b[0m\u001b[0;34m\u001b[0m\u001b[0m\n\u001b[1;32m   2564\u001b[0m     )\n",
            "\u001b[0;32m/usr/local/lib/python3.10/dist-packages/sklearn/model_selection/_split.py\u001b[0m in \u001b[0;36m_validate_shuffle_split\u001b[0;34m(n_samples, test_size, train_size, default_test_size)\u001b[0m\n\u001b[1;32m   2234\u001b[0m \u001b[0;34m\u001b[0m\u001b[0m\n\u001b[1;32m   2235\u001b[0m     \u001b[0;32mif\u001b[0m \u001b[0mn_train\u001b[0m \u001b[0;34m==\u001b[0m \u001b[0;36m0\u001b[0m\u001b[0;34m:\u001b[0m\u001b[0;34m\u001b[0m\u001b[0;34m\u001b[0m\u001b[0m\n\u001b[0;32m-> 2236\u001b[0;31m         raise ValueError(\n\u001b[0m\u001b[1;32m   2237\u001b[0m             \u001b[0;34m\"With n_samples={}, test_size={} and train_size={}, the \"\u001b[0m\u001b[0;34m\u001b[0m\u001b[0;34m\u001b[0m\u001b[0m\n\u001b[1;32m   2238\u001b[0m             \u001b[0;34m\"resulting train set will be empty. Adjust any of the \"\u001b[0m\u001b[0;34m\u001b[0m\u001b[0;34m\u001b[0m\u001b[0m\n",
            "\u001b[0;31mValueError\u001b[0m: With n_samples=0, test_size=0.33 and train_size=None, the resulting train set will be empty. Adjust any of the aforementioned parameters."
          ]
        }
      ],
      "source": [
        "from sklearn.model_selection import train_test_split\n",
        "X_train, X_test, y_train, y_test = train_test_split(np.array(features), np.array(target), test_size=0.33, random_state=42)\n",
        "y_train = np.reshape(y_train, (y_train.shape[0],1))\n",
        "y_test = np.reshape(y_test, (y_test.shape[0],1))"
      ]
    },
    {
      "cell_type": "code",
      "execution_count": null,
      "metadata": {
        "id": "1qpvJ4VMxq1Y"
      },
      "outputs": [],
      "source": [
        "import torch\n",
        "import torch.nn as nn\n",
        "import torch.nn.functional as F\n",
        "import numpy as np\n",
        "\n",
        "\n",
        "\n",
        "from torch.autograd import Variable\n",
        "import torch.nn as nn\n",
        "import torch.nn.functional as F\n",
        "import torch as th\n",
        "import math\n",
        "\n",
        "\n",
        "class NetVLAD(nn.Module):\n",
        "    def __init__(self, cluster_size, feature_size, add_batch_norm=True):\n",
        "        super(NetVLAD, self).__init__()\n",
        "        self.feature_size = feature_size\n",
        "        self.cluster_size = cluster_size\n",
        "        self.clusters = nn.Parameter((1/math.sqrt(feature_size))\n",
        "                *th.randn(feature_size, cluster_size))\n",
        "        self.clusters2 = nn.Parameter((1/math.sqrt(feature_size))\n",
        "                *th.randn(1, feature_size, cluster_size))\n",
        "\n",
        "        self.add_batch_norm = add_batch_norm\n",
        "        self.out_dim = cluster_size*feature_size\n",
        "\n",
        "    def forward(self,x):\n",
        "        # x [BS, T, D]\n",
        "        #BS = x.shape[0]\n",
        "        #FR = x.shape[1] * 2\n",
        "        #IC = x.shape[2]\n",
        "        max_sample = x.size()[1]\n",
        "\n",
        "        #if not IC == 512:\n",
        "        #    inputs = inputs.reshape(BS*FR, IC)\n",
        "        #    inputs = self.feature_extractor(x)\n",
        "        #    inputs = inputs.reshape(BS, FR, -1)\n",
        "\n",
        "        # LOUPE\n",
        "        if self.add_batch_norm: # normalization along feature dimension\n",
        "            x = F.normalize(x, p=2, dim=2)\n",
        "\n",
        "\n",
        "        x = x.reshape(-1,self.feature_size)\n",
        "        assignment = th.matmul(x,self.clusters)\n",
        "\n",
        "        assignment = F.softmax(assignment,dim=1)\n",
        "        assignment = assignment.view(-1, max_sample, self.cluster_size)\n",
        "\n",
        "        a_sum = th.sum(assignment,-2,keepdim=True)\n",
        "        a = a_sum*self.clusters2\n",
        "\n",
        "        assignment = assignment.transpose(1,2)\n",
        "\n",
        "        x = x.view(-1, max_sample, self.feature_size)\n",
        "        vlad = th.matmul(assignment, x)\n",
        "        vlad = vlad.transpose(1,2)\n",
        "        vlad = vlad - a\n",
        "\n",
        "        # L2 intra norm\n",
        "        vlad = F.normalize(vlad)\n",
        "\n",
        "        # flattening + L2 norm\n",
        "        vlad = vlad.reshape(-1, self.cluster_size*self.feature_size)\n",
        "        vlad = F.normalize(vlad)\n",
        "\n",
        "        return vlad"
      ]
    },
    {
      "cell_type": "code",
      "execution_count": null,
      "metadata": {
        "id": "xegpRTJeoCX9"
      },
      "outputs": [],
      "source": [
        "class Model(nn.Module):\n",
        "    def __init__(self, weights=None, input_size=512, num_classes=17, vocab_size=64, window_size=15, framerate=2, batch_size = 30):\n",
        "        \"\"\"\n",
        "        INPUT: a Tensor of shape (batch_size,window_size,feature_size)\n",
        "        OUTPUTS: a Tensor of shape (batch_size,num_classes+1)\n",
        "        \"\"\"\n",
        "        super(Model, self).__init__()\n",
        "\n",
        "        self.window_size_frame=window_size * framerate\n",
        "        self.input_size = input_size\n",
        "        self.num_classes = num_classes\n",
        "        self.framerate = framerate\n",
        "        self.vlad_k = vocab_size\n",
        "        self.fc = nn.Linear(input_size*self.vlad_k, self.num_classes+1)\n",
        "        self.feature_extractor = None\n",
        "\n",
        "        if not self.input_size == 512:\n",
        "            self.feature_extractor = nn.Linear(self.input_size, 512)\n",
        "            input_size = 512\n",
        "            self.input_size = 512\n",
        "\n",
        "        self.pool_layer_before = NetVLAD(cluster_size=int(self.vlad_k/2), feature_size=self.input_size,\n",
        "                                            add_batch_norm=True)\n",
        "        self.pool_layer_after = NetVLAD(cluster_size=int(self.vlad_k/2), feature_size=self.input_size,\n",
        "                                            add_batch_norm=True)\n",
        "\n",
        "        self.fc = nn.Linear(input_size*self.vlad_k, self.num_classes+1)\n",
        "        self.drop = nn.Dropout(p=0.4)\n",
        "        self.sigm = nn.Sigmoid()\n",
        "        self.weights = self.load_weights(weights)\n",
        "\n",
        "    def forward(self, inputs):\n",
        "        # input_shape: (batch,frames,dim_features)\n",
        "\n",
        "\n",
        "        BS, FR, IC = inputs.shape\n",
        "\n",
        "        nb_frames_50 = int(inputs.shape[1]/2)\n",
        "        inputs_before_pooled = self.pool_layer_before(inputs[:, :nb_frames_50, :])\n",
        "        print(\"Inputs\\n\", inputs_before_pooled)\n",
        "\n",
        "        inputs_after_pooled = self.pool_layer_after(inputs[:, nb_frames_50:, :])\n",
        "        inputs_pooled = torch.cat((inputs_before_pooled, inputs_after_pooled), dim=1)\n",
        "        #print(inputs_pooled)\n",
        "\n",
        "        # Extra FC layer with dropout and sigmoid activation\n",
        "        output = self.sigm(self.fc(self.drop(inputs_pooled)))\n",
        "\n",
        "        return output, inputs_pooled\n",
        "\n",
        "    def load_weights(self, weights=None):\n",
        "        if(weights is not None):\n",
        "            print(\"=> loading checkpoint '{}'\".format(weights))\n",
        "            checkpoint = torch.load(weights, map_location=torch.device('cpu'))\n",
        "            loaded_dict = checkpoint['state_dict']\n",
        "            prefix = 'feature_extractor'\n",
        "            n_clip = len(prefix)\n",
        "            adapted_dict = {k[:]: v for k, v in loaded_dict.items()\n",
        "                if not k.startswith(prefix)}\n",
        "            self.load_state_dict(adapted_dict)\n",
        "            print(\"=> loaded checkpoint '{}' (epoch {})\"\n",
        "                  .format(weights, checkpoint['epoch']))"
      ]
    },
    {
      "cell_type": "code",
      "execution_count": null,
      "metadata": {
        "id": "YM1XV_LFFIqQ"
      },
      "outputs": [],
      "source": [
        "class NLLLoss(torch.nn.Module):\n",
        "    def __init__(self):\n",
        "        super(NLLLoss, self).__init__()\n",
        "\n",
        "    def forward(self, labels, output):\n",
        "        # return torch.mean(labels * -torch.log(output) + (1 - labels) * -torch.log(1 - output))\n",
        "        return torch.mean(torch.mean(labels * -torch.log(output) + (1 - labels) * -torch.log(1 - output)))"
      ]
    },
    {
      "cell_type": "code",
      "execution_count": null,
      "metadata": {
        "colab": {
          "base_uri": "https://localhost:8080/",
          "height": 270
        },
        "id": "3P6y_ywUwXx1",
        "outputId": "9680d911-85d4-4efa-d1b6-62ca0a6c255b"
      },
      "outputs": [
        {
          "name": "stdout",
          "output_type": "stream",
          "text": [
            "=> loading checkpoint 'model.pth.tar'\n",
            "=> loaded checkpoint 'model.pth.tar' (epoch 18)\n"
          ]
        },
        {
          "ename": "NameError",
          "evalue": "ignored",
          "output_type": "error",
          "traceback": [
            "\u001b[0;31m---------------------------------------------------------------------------\u001b[0m",
            "\u001b[0;31mNameError\u001b[0m                                 Traceback (most recent call last)",
            "\u001b[0;32m<ipython-input-20-96e474492129>\u001b[0m in \u001b[0;36m<cell line: 2>\u001b[0;34m()\u001b[0m\n\u001b[1;32m      1\u001b[0m \u001b[0mmodel\u001b[0m \u001b[0;34m=\u001b[0m \u001b[0mModel\u001b[0m\u001b[0;34m(\u001b[0m\u001b[0minput_size\u001b[0m\u001b[0;34m=\u001b[0m\u001b[0;36m512\u001b[0m\u001b[0;34m,\u001b[0m \u001b[0mweights\u001b[0m\u001b[0;34m=\u001b[0m\u001b[0;34m'model.pth.tar'\u001b[0m\u001b[0;34m)\u001b[0m\u001b[0;34m\u001b[0m\u001b[0;34m\u001b[0m\u001b[0m\n\u001b[0;32m----> 2\u001b[0;31m \u001b[0minp\u001b[0m \u001b[0;34m=\u001b[0m \u001b[0mtorch\u001b[0m\u001b[0;34m.\u001b[0m\u001b[0mfrom_numpy\u001b[0m\u001b[0;34m(\u001b[0m\u001b[0mX_train\u001b[0m\u001b[0;34m)\u001b[0m\u001b[0;34m.\u001b[0m\u001b[0mfloat\u001b[0m\u001b[0;34m(\u001b[0m\u001b[0;34m)\u001b[0m\u001b[0;34m\u001b[0m\u001b[0;34m\u001b[0m\u001b[0m\n\u001b[0m\u001b[1;32m      3\u001b[0m \u001b[0mtes\u001b[0m \u001b[0;34m=\u001b[0m \u001b[0mtorch\u001b[0m\u001b[0;34m.\u001b[0m\u001b[0mfrom_numpy\u001b[0m\u001b[0;34m(\u001b[0m\u001b[0mX_test\u001b[0m\u001b[0;34m)\u001b[0m\u001b[0;34m.\u001b[0m\u001b[0mfloat\u001b[0m\u001b[0;34m(\u001b[0m\u001b[0;34m)\u001b[0m\u001b[0;34m\u001b[0m\u001b[0;34m\u001b[0m\u001b[0m\n\u001b[1;32m      4\u001b[0m \u001b[0mop\u001b[0m\u001b[0;34m=\u001b[0m\u001b[0mtorch\u001b[0m\u001b[0;34m.\u001b[0m\u001b[0mfrom_numpy\u001b[0m\u001b[0;34m(\u001b[0m\u001b[0my_train\u001b[0m\u001b[0;34m)\u001b[0m\u001b[0;34m.\u001b[0m\u001b[0mfloat\u001b[0m\u001b[0;34m(\u001b[0m\u001b[0;34m)\u001b[0m\u001b[0;34m\u001b[0m\u001b[0;34m\u001b[0m\u001b[0m\n\u001b[1;32m      5\u001b[0m \u001b[0mtop\u001b[0m\u001b[0;34m=\u001b[0m\u001b[0mtorch\u001b[0m\u001b[0;34m.\u001b[0m\u001b[0mfrom_numpy\u001b[0m\u001b[0;34m(\u001b[0m\u001b[0my_test\u001b[0m\u001b[0;34m)\u001b[0m\u001b[0;34m.\u001b[0m\u001b[0mfloat\u001b[0m\u001b[0;34m(\u001b[0m\u001b[0;34m)\u001b[0m\u001b[0;34m\u001b[0m\u001b[0;34m\u001b[0m\u001b[0m\n",
            "\u001b[0;31mNameError\u001b[0m: name 'X_train' is not defined"
          ]
        }
      ],
      "source": [
        "model = Model(input_size=512, weights='model.pth.tar')\n",
        "inp = torch.from_numpy(X_train).float()\n",
        "tes = torch.from_numpy(X_test).float()\n",
        "op=torch.from_numpy(y_train).float()\n",
        "top=torch.from_numpy(y_test).float()\n",
        "criterion = NLLLoss()\n",
        "#optimizer = torch.optim.Adam(model.parameters(), lr=0.001)\n",
        "optimizer = torch.optim.Adam(model.parameters(), lr=0.001,\n",
        "                                    betas=(0.9, 0.999), eps=1e-08,\n",
        "                                    weight_decay=0, amsgrad=False)\n",
        "scheduler = torch.optim.lr_scheduler.ReduceLROnPlateau(optimizer, 'min', verbose=True, patience=10)\n",
        "\n",
        "train = torch.utils.data.TensorDataset(inp, op)\n",
        "train_loader = torch.utils.data.DataLoader(train, batch_size=30, shuffle=True)\n",
        "test = torch.utils.data.TensorDataset(tes, top)\n",
        "test_loader = torch.utils.data.DataLoader(test, batch_size=30, shuffle=True)\n",
        "max_grad_norm = 1.0\n",
        "\n",
        "# Training\n",
        "for epoch in range(1):\n",
        "  for i, (inputs, labels) in enumerate(train_loader):\n",
        "        optimizer.zero_grad()\n",
        "        outputs, logit = model(inputs)\n",
        "        loss = criterion(outputs, labels)\n",
        "        loss.backward()\n",
        "        torch.nn.utils.clip_grad_norm_(model.parameters(), max_grad_norm)  # Clip gradients\n",
        "\n",
        "        for name, param in model.named_parameters():\n",
        "            if torch.isinf(param.grad).any():\n",
        "                print(f'Gradient of {name} is inf: {param.grad}')\n",
        "\n",
        "        #optimizer.step()"
      ]
    },
    {
      "cell_type": "code",
      "execution_count": null,
      "metadata": {
        "colab": {
          "base_uri": "https://localhost:8080/",
          "height": 235
        },
        "id": "nZzGQYByOa44",
        "outputId": "07f95c2b-43cc-4f47-8242-d5120b069d78"
      },
      "outputs": [
        {
          "ename": "NameError",
          "evalue": "ignored",
          "output_type": "error",
          "traceback": [
            "\u001b[0;31m---------------------------------------------------------------------------\u001b[0m",
            "\u001b[0;31mNameError\u001b[0m                                 Traceback (most recent call last)",
            "\u001b[0;32m<ipython-input-21-14cd66a7fd71>\u001b[0m in \u001b[0;36m<cell line: 3>\u001b[0;34m()\u001b[0m\n\u001b[1;32m      1\u001b[0m \u001b[0moutputs\u001b[0m \u001b[0;34m=\u001b[0m \u001b[0;34m[\u001b[0m\u001b[0;34m]\u001b[0m\u001b[0;34m\u001b[0m\u001b[0;34m\u001b[0m\u001b[0m\n\u001b[1;32m      2\u001b[0m \u001b[0mlogits\u001b[0m \u001b[0;34m=\u001b[0m \u001b[0;34m[\u001b[0m\u001b[0;34m]\u001b[0m\u001b[0;34m\u001b[0m\u001b[0;34m\u001b[0m\u001b[0m\n\u001b[0;32m----> 3\u001b[0;31m \u001b[0;32mfor\u001b[0m \u001b[0mi\u001b[0m\u001b[0;34m,\u001b[0m \u001b[0;34m(\u001b[0m\u001b[0minputs\u001b[0m\u001b[0;34m,\u001b[0m \u001b[0mlabels\u001b[0m\u001b[0;34m)\u001b[0m \u001b[0;32min\u001b[0m \u001b[0menumerate\u001b[0m\u001b[0;34m(\u001b[0m\u001b[0mtest_loader\u001b[0m\u001b[0;34m)\u001b[0m\u001b[0;34m:\u001b[0m\u001b[0;34m\u001b[0m\u001b[0;34m\u001b[0m\u001b[0m\n\u001b[0m\u001b[1;32m      4\u001b[0m     \u001b[0my\u001b[0m\u001b[0;34m,\u001b[0m \u001b[0ml\u001b[0m \u001b[0;34m=\u001b[0m \u001b[0mmodel\u001b[0m\u001b[0;34m(\u001b[0m\u001b[0minputs\u001b[0m\u001b[0;34m)\u001b[0m\u001b[0;34m\u001b[0m\u001b[0;34m\u001b[0m\u001b[0m\n\u001b[1;32m      5\u001b[0m     \u001b[0mprint\u001b[0m\u001b[0;34m(\u001b[0m\u001b[0my\u001b[0m\u001b[0;34m.\u001b[0m\u001b[0mshape\u001b[0m\u001b[0;34m)\u001b[0m\u001b[0;34m\u001b[0m\u001b[0;34m\u001b[0m\u001b[0m\n",
            "\u001b[0;31mNameError\u001b[0m: name 'test_loader' is not defined"
          ]
        }
      ],
      "source": [
        "outputs = []\n",
        "logits = []\n",
        "for i, (inputs, labels) in enumerate(test_loader):\n",
        "    y, l = model(inputs)\n",
        "    print(y.shape)\n",
        "    y = norm(y, i)\n",
        "    logits.append(np.array(l.detach().numpy()))\n",
        "    outputs.append(np.array(y.detach().numpy()))"
      ]
    },
    {
      "cell_type": "code",
      "execution_count": null,
      "metadata": {
        "id": "-58nl56mTTh_"
      },
      "outputs": [],
      "source": [
        "logs = []\n",
        "for i in logits:\n",
        "  for j in i:\n",
        "    logs.append(j)\n",
        "logs = np.array(logs)"
      ]
    },
    {
      "cell_type": "code",
      "execution_count": null,
      "metadata": {
        "colab": {
          "base_uri": "https://localhost:8080/",
          "height": 363
        },
        "id": "92snIHd1QzQV",
        "outputId": "d4e0ad96-9e79-4200-a8bf-00cdb53e9238"
      },
      "outputs": [
        {
          "ename": "AxisError",
          "evalue": "ignored",
          "output_type": "error",
          "traceback": [
            "\u001b[0;31m---------------------------------------------------------------------------\u001b[0m",
            "\u001b[0;31mAxisError\u001b[0m                                 Traceback (most recent call last)",
            "\u001b[0;32m<ipython-input-23-fbf104f81dc7>\u001b[0m in \u001b[0;36m<cell line: 5>\u001b[0;34m()\u001b[0m\n\u001b[1;32m      3\u001b[0m   \u001b[0;32mfor\u001b[0m \u001b[0mj\u001b[0m \u001b[0;32min\u001b[0m \u001b[0mi\u001b[0m\u001b[0;34m:\u001b[0m\u001b[0;34m\u001b[0m\u001b[0;34m\u001b[0m\u001b[0m\n\u001b[1;32m      4\u001b[0m     \u001b[0mres\u001b[0m\u001b[0;34m.\u001b[0m\u001b[0mappend\u001b[0m\u001b[0;34m(\u001b[0m\u001b[0mj\u001b[0m\u001b[0;34m)\u001b[0m\u001b[0;34m\u001b[0m\u001b[0;34m\u001b[0m\u001b[0m\n\u001b[0;32m----> 5\u001b[0;31m \u001b[0mres\u001b[0m \u001b[0;34m=\u001b[0m \u001b[0mnp\u001b[0m\u001b[0;34m.\u001b[0m\u001b[0margmax\u001b[0m\u001b[0;34m(\u001b[0m\u001b[0mnp\u001b[0m\u001b[0;34m.\u001b[0m\u001b[0marray\u001b[0m\u001b[0;34m(\u001b[0m\u001b[0mres\u001b[0m\u001b[0;34m)\u001b[0m\u001b[0;34m,\u001b[0m \u001b[0maxis\u001b[0m\u001b[0;34m=\u001b[0m\u001b[0;36m1\u001b[0m\u001b[0;34m)\u001b[0m\u001b[0;34m\u001b[0m\u001b[0;34m\u001b[0m\u001b[0m\n\u001b[0m\u001b[1;32m      6\u001b[0m \u001b[0mres\u001b[0m \u001b[0;34m=\u001b[0m \u001b[0mres\u001b[0m\u001b[0;34m.\u001b[0m\u001b[0mreshape\u001b[0m\u001b[0;34m(\u001b[0m\u001b[0;34m-\u001b[0m\u001b[0;36m1\u001b[0m\u001b[0;34m,\u001b[0m \u001b[0;36m1\u001b[0m\u001b[0;34m)\u001b[0m\u001b[0;34m\u001b[0m\u001b[0;34m\u001b[0m\u001b[0m\n",
            "\u001b[0;32m/usr/local/lib/python3.10/dist-packages/numpy/core/overrides.py\u001b[0m in \u001b[0;36margmax\u001b[0;34m(*args, **kwargs)\u001b[0m\n",
            "\u001b[0;32m/usr/local/lib/python3.10/dist-packages/numpy/core/fromnumeric.py\u001b[0m in \u001b[0;36margmax\u001b[0;34m(a, axis, out, keepdims)\u001b[0m\n\u001b[1;32m   1214\u001b[0m     \"\"\"\n\u001b[1;32m   1215\u001b[0m     \u001b[0mkwds\u001b[0m \u001b[0;34m=\u001b[0m \u001b[0;34m{\u001b[0m\u001b[0;34m'keepdims'\u001b[0m\u001b[0;34m:\u001b[0m \u001b[0mkeepdims\u001b[0m\u001b[0;34m}\u001b[0m \u001b[0;32mif\u001b[0m \u001b[0mkeepdims\u001b[0m \u001b[0;32mis\u001b[0m \u001b[0;32mnot\u001b[0m \u001b[0mnp\u001b[0m\u001b[0;34m.\u001b[0m\u001b[0m_NoValue\u001b[0m \u001b[0;32melse\u001b[0m \u001b[0;34m{\u001b[0m\u001b[0;34m}\u001b[0m\u001b[0;34m\u001b[0m\u001b[0;34m\u001b[0m\u001b[0m\n\u001b[0;32m-> 1216\u001b[0;31m     \u001b[0;32mreturn\u001b[0m \u001b[0m_wrapfunc\u001b[0m\u001b[0;34m(\u001b[0m\u001b[0ma\u001b[0m\u001b[0;34m,\u001b[0m \u001b[0;34m'argmax'\u001b[0m\u001b[0;34m,\u001b[0m \u001b[0maxis\u001b[0m\u001b[0;34m=\u001b[0m\u001b[0maxis\u001b[0m\u001b[0;34m,\u001b[0m \u001b[0mout\u001b[0m\u001b[0;34m=\u001b[0m\u001b[0mout\u001b[0m\u001b[0;34m,\u001b[0m \u001b[0;34m**\u001b[0m\u001b[0mkwds\u001b[0m\u001b[0;34m)\u001b[0m\u001b[0;34m\u001b[0m\u001b[0;34m\u001b[0m\u001b[0m\n\u001b[0m\u001b[1;32m   1217\u001b[0m \u001b[0;34m\u001b[0m\u001b[0m\n\u001b[1;32m   1218\u001b[0m \u001b[0;34m\u001b[0m\u001b[0m\n",
            "\u001b[0;32m/usr/local/lib/python3.10/dist-packages/numpy/core/fromnumeric.py\u001b[0m in \u001b[0;36m_wrapfunc\u001b[0;34m(obj, method, *args, **kwds)\u001b[0m\n\u001b[1;32m     55\u001b[0m \u001b[0;34m\u001b[0m\u001b[0m\n\u001b[1;32m     56\u001b[0m     \u001b[0;32mtry\u001b[0m\u001b[0;34m:\u001b[0m\u001b[0;34m\u001b[0m\u001b[0;34m\u001b[0m\u001b[0m\n\u001b[0;32m---> 57\u001b[0;31m         \u001b[0;32mreturn\u001b[0m \u001b[0mbound\u001b[0m\u001b[0;34m(\u001b[0m\u001b[0;34m*\u001b[0m\u001b[0margs\u001b[0m\u001b[0;34m,\u001b[0m \u001b[0;34m**\u001b[0m\u001b[0mkwds\u001b[0m\u001b[0;34m)\u001b[0m\u001b[0;34m\u001b[0m\u001b[0;34m\u001b[0m\u001b[0m\n\u001b[0m\u001b[1;32m     58\u001b[0m     \u001b[0;32mexcept\u001b[0m \u001b[0mTypeError\u001b[0m\u001b[0;34m:\u001b[0m\u001b[0;34m\u001b[0m\u001b[0;34m\u001b[0m\u001b[0m\n\u001b[1;32m     59\u001b[0m         \u001b[0;31m# A TypeError occurs if the object does have such a method in its\u001b[0m\u001b[0;34m\u001b[0m\u001b[0;34m\u001b[0m\u001b[0m\n",
            "\u001b[0;31mAxisError\u001b[0m: axis 1 is out of bounds for array of dimension 1"
          ]
        }
      ],
      "source": [
        "res = []\n",
        "for i in outputs:\n",
        "  for j in i:\n",
        "    res.append(j)\n",
        "res = np.argmax(np.array(res), axis=1)\n",
        "res = res.reshape(-1, 1)"
      ]
    },
    {
      "cell_type": "code",
      "execution_count": null,
      "metadata": {
        "id": "ZRVOgLG7Pyqn"
      },
      "outputs": [],
      "source": [
        "print(np.array(res).shape)\n",
        "print(np.array(top).shape)"
      ]
    },
    {
      "cell_type": "code",
      "execution_count": null,
      "metadata": {
        "colab": {
          "base_uri": "https://localhost:8080/",
          "height": 166
        },
        "id": "4v2eC7BjOuXl",
        "outputId": "47359cf5-5773-4f41-ce41-185014407069"
      },
      "outputs": [
        {
          "ename": "NameError",
          "evalue": "ignored",
          "output_type": "error",
          "traceback": [
            "\u001b[0;31m---------------------------------------------------------------------------\u001b[0m",
            "\u001b[0;31mNameError\u001b[0m                                 Traceback (most recent call last)",
            "\u001b[0;32m<ipython-input-24-a031cf138f29>\u001b[0m in \u001b[0;36m<cell line: 1>\u001b[0;34m()\u001b[0m\n\u001b[0;32m----> 1\u001b[0;31m \u001b[0mtop\u001b[0m \u001b[0;34m=\u001b[0m \u001b[0;34m[\u001b[0m\u001b[0mint\u001b[0m\u001b[0;34m(\u001b[0m\u001b[0mi\u001b[0m\u001b[0;34m)\u001b[0m \u001b[0;32mfor\u001b[0m \u001b[0mi\u001b[0m \u001b[0;32min\u001b[0m \u001b[0mtop\u001b[0m\u001b[0;34m]\u001b[0m\u001b[0;34m\u001b[0m\u001b[0;34m\u001b[0m\u001b[0m\n\u001b[0m",
            "\u001b[0;31mNameError\u001b[0m: name 'top' is not defined"
          ]
        }
      ],
      "source": [
        "top = [int(i) for i in top]"
      ]
    },
    {
      "cell_type": "code",
      "execution_count": null,
      "metadata": {
        "colab": {
          "base_uri": "https://localhost:8080/"
        },
        "id": "SyftyGL7NUuM",
        "outputId": "445c6f5e-e9c7-444f-a65b-454e5d3b4074"
      },
      "outputs": [
        {
          "name": "stdout",
          "output_type": "stream",
          "text": [
            "['attendance' 'corner' 'attendance' 'attendance' 'attendance' 'na' 'na'\n",
            " 'na' 'y-card' 'penalty' 'y-card' 'penalty-missed' 'soccer-ball' 'na' 'na'\n",
            " 'y-card' 'na' 'attendance' 'y-card' 'attendance' 'na' 'na' 'na'\n",
            " 'attendance' 'attendance' 'na' 'whistle' 'attendance' 'na' 'attendance'\n",
            " 'attendance' 'na' 'substitution' 'substitution' 'na' 'attendance'\n",
            " 'soccer-ball' 'attendance' 'corner' 'attendance' 'attendance'\n",
            " 'attendance' 'attendance' 'soccer-ball' 'attendance' 'attendance'\n",
            " 'soccer-ball' 'attendance' 'attendance' 'corner' 'na' 'y-card'\n",
            " 'substitution' 'attendance' 'na' 'corner' 'na' 'na' 'na' 'na'\n",
            " 'attendance' 'na' 'corner' 'na' 'na' 'attendance' 'na' 'attendance' 'na'\n",
            " 'corner' 'na' 'na' 'na' 'na' 'na' 'corner' 'na' 'na' 'na' 'soccer-ball'\n",
            " 'attendance' 'attendance' 'na' 'funfact' 'attendance' 'attendance'\n",
            " 'whistle']\n"
          ]
        },
        {
          "name": "stderr",
          "output_type": "stream",
          "text": [
            "/usr/local/lib/python3.10/dist-packages/sklearn/preprocessing/_label.py:155: DataConversionWarning: A column-vector y was passed when a 1d array was expected. Please change the shape of y to (n_samples, ), for example using ravel().\n",
            "  y = column_or_1d(y, warn=True)\n"
          ]
        }
      ],
      "source": [
        "print(le.inverse_transform(res))"
      ]
    },
    {
      "cell_type": "code",
      "execution_count": null,
      "metadata": {
        "colab": {
          "base_uri": "https://localhost:8080/"
        },
        "id": "0-OaGRK-RkNn",
        "outputId": "e3848c76-2216-45de-c53d-96a1741ec948"
      },
      "outputs": [
        {
          "name": "stdout",
          "output_type": "stream",
          "text": [
            "['na' 'na' 'na' 'substitution' 'na' 'na' 'substitution' 'y-card' 'penalty'\n",
            " 'na' 'soccer-ball' 'na' 'soccer-ball' 'substitution' 'whistle' 'na'\n",
            " 'soccer-ball' 'na' 'y-card' 'na' 'na' 'na' 'na' 'na' 'substitution' 'na'\n",
            " 'na' 'na' 'corner' 'y-card' 'y-card' 'na' 'na' 'na' 'substitution'\n",
            " 'substitution' 'na' 'na' 'na' 'y-card' 'na' 'na' 'na' 'corner' 'na' 'na'\n",
            " 'na' 'y-card' 'whistle' 'na' 'na' 'na' 'corner' 'corner' 'substitution'\n",
            " 'na' 'na' 'corner' 'na' 'corner' 'na' 'na' 'na' 'na' 'na' 'corner' 'na'\n",
            " 'na' 'na' 'na' 'na' 'na' 'na' 'na' 'na' 'na' 'y-card' 'whistle'\n",
            " 'substitution' 'corner' 'na' 'corner' 'na' 'na' 'substitution' 'na'\n",
            " 'corner']\n"
          ]
        }
      ],
      "source": [
        "print(le.inverse_transform(top))"
      ]
    },
    {
      "cell_type": "code",
      "execution_count": null,
      "metadata": {
        "colab": {
          "base_uri": "https://localhost:8080/"
        },
        "id": "vG7qmmndNR0g",
        "outputId": "363821ce-5b2c-403f-9ed6-f7b450881b01"
      },
      "outputs": [
        {
          "name": "stdout",
          "output_type": "stream",
          "text": [
            "['attendance' 'corner' 'attendance' 'attendance' 'attendance' 'na' 'na'\n",
            " 'na' 'y-card' 'penalty' 'y-card' 'penalty-missed' 'soccer-ball' 'na' 'na'\n",
            " 'y-card' 'na' 'attendance' 'y-card' 'attendance' 'na' 'na' 'na'\n",
            " 'attendance' 'attendance' 'na' 'whistle' 'attendance' 'na' 'attendance'\n",
            " 'attendance' 'na' 'substitution' 'substitution' 'na' 'attendance'\n",
            " 'soccer-ball' 'attendance' 'corner' 'attendance' 'attendance'\n",
            " 'attendance' 'attendance' 'soccer-ball' 'attendance' 'attendance'\n",
            " 'soccer-ball' 'attendance' 'attendance' 'corner' 'na' 'y-card'\n",
            " 'substitution' 'attendance' 'na' 'corner' 'na' 'na' 'na' 'na'\n",
            " 'attendance' 'na' 'corner' 'na' 'na' 'attendance' 'na' 'attendance' 'na'\n",
            " 'corner' 'na' 'na' 'na' 'na' 'na' 'corner' 'na' 'na' 'na' 'soccer-ball'\n",
            " 'attendance' 'attendance' 'na' 'funfact' 'attendance' 'attendance'\n",
            " 'whistle']\n"
          ]
        },
        {
          "name": "stderr",
          "output_type": "stream",
          "text": [
            "/usr/local/lib/python3.10/dist-packages/sklearn/preprocessing/_label.py:155: DataConversionWarning: A column-vector y was passed when a 1d array was expected. Please change the shape of y to (n_samples, ), for example using ravel().\n",
            "  y = column_or_1d(y, warn=True)\n"
          ]
        }
      ],
      "source": [
        "print(le.inverse_transform(res))"
      ]
    },
    {
      "cell_type": "code",
      "execution_count": null,
      "metadata": {
        "colab": {
          "base_uri": "https://localhost:8080/"
        },
        "id": "9eVyvvy-P1-3",
        "outputId": "cd78d5e3-652c-4dd4-81a4-9273c51ff4eb"
      },
      "outputs": [
        {
          "data": {
            "text/plain": [
              "array(['attendance', 'corner', 'funfact', 'injury', 'na', 'penalty',\n",
              "       'penalty-missed', 'soccer-ball', 'substitution', 'whistle',\n",
              "       'y-card'], dtype='<U14')"
            ]
          },
          "execution_count": 84,
          "metadata": {},
          "output_type": "execute_result"
        }
      ],
      "source": [
        "le.classes_"
      ]
    },
    {
      "cell_type": "code",
      "execution_count": null,
      "metadata": {
        "colab": {
          "base_uri": "https://localhost:8080/"
        },
        "id": "I2OH4S0BLXJD",
        "outputId": "603c0a4f-7064-4c10-d8c1-f0cb33194fc3"
      },
      "outputs": [
        {
          "name": "stdout",
          "output_type": "stream",
          "text": [
            "Accuracy :  0.25287356321839083\n",
            "Precision :  0.16785258164568506\n"
          ]
        },
        {
          "name": "stderr",
          "output_type": "stream",
          "text": [
            "/usr/local/lib/python3.10/dist-packages/sklearn/metrics/_classification.py:1344: UndefinedMetricWarning: Precision is ill-defined and being set to 0.0 in labels with no predicted samples. Use `zero_division` parameter to control this behavior.\n",
            "  _warn_prf(average, modifier, msg_start, len(result))\n"
          ]
        }
      ],
      "source": [
        "#Accuracy\n",
        "from sklearn.metrics import accuracy_score\n",
        "from sklearn.metrics import precision_score\n",
        "acc = accuracy_score(res, top)\n",
        "prec = precision_score(res, top, average='weighted')\n",
        "print(\"Accuracy : \", acc)\n",
        "print(\"Precision : \", prec)"
      ]
    },
    {
      "cell_type": "code",
      "execution_count": null,
      "metadata": {
        "colab": {
          "base_uri": "https://localhost:8080/"
        },
        "id": "5XCgnJO0YqK2",
        "outputId": "9040a383-ff32-40d0-853a-6d91ccc98517"
      },
      "outputs": [
        {
          "name": "stdout",
          "output_type": "stream",
          "text": [
            "(87, 32768)\n"
          ]
        }
      ],
      "source": [
        "print(np.array(logs).shape)"
      ]
    },
    {
      "cell_type": "code",
      "execution_count": null,
      "metadata": {
        "id": "ODQW6T1LEuQG"
      },
      "outputs": [],
      "source": [
        "import numpy as np\n",
        "\n",
        "def calculate_ap(predictions, actual):\n",
        "    \"\"\"\n",
        "    This function calculates the average precision (AP) for a single query.\n",
        "    \"\"\"\n",
        "    precision = []\n",
        "    recall = []\n",
        "    true_positives = 0\n",
        "    false_positives = 0\n",
        "    for i, prediction in enumerate(predictions):\n",
        "        if prediction == actual:\n",
        "            true_positives += 1\n",
        "        else:\n",
        "            false_positives += 1\n",
        "        precision.append(true_positives / (true_positives + false_positives))\n",
        "        recall.append(true_positives / actual)\n",
        "    # Add a point at the end of the curve to make calculations easier\n",
        "    precision.append(1.0)\n",
        "    recall.append(1.0)\n",
        "\n",
        "    ap = 0.0\n",
        "    for i in range(len(recall)-1):\n",
        "        ap += (recall[i+1] - recall[i]) * precision[i+1]\n",
        "    return ap\n",
        "\n",
        "def calculate_map(predictions, actuals):\n",
        "    \"\"\"\n",
        "    This function calculates the mean average precision (MAP) for a set of queries.\n",
        "    \"\"\"\n",
        "    aps = []\n",
        "    for i, actual in enumerate(actuals):\n",
        "        ap = calculate_ap(predictions[i], actual)\n",
        "        aps.append(ap)\n",
        "    # Calculate the average of the APs\n",
        "    map = np.mean(aps)\n",
        "    return map"
      ]
    },
    {
      "cell_type": "code",
      "execution_count": null,
      "metadata": {
        "colab": {
          "base_uri": "https://localhost:8080/"
        },
        "id": "-wt1dRfoE6Y3",
        "outputId": "c1ca2cb5-a73c-46a5-ae0f-27755c2f2b62"
      },
      "outputs": [
        {
          "name": "stdout",
          "output_type": "stream",
          "text": [
            "MAP:  0.939737274220033\n"
          ]
        }
      ],
      "source": [
        "map = calculate_map(res, top)\n",
        "print(\"MAP: \", map)"
      ]
    },
    {
      "cell_type": "markdown",
      "metadata": {
        "id": "HGTcTWvAVES1"
      },
      "source": [
        "#Getting temporal features from the trained model"
      ]
    },
    {
      "cell_type": "code",
      "execution_count": null,
      "metadata": {
        "colab": {
          "base_uri": "https://localhost:8080/"
        },
        "id": "OTwLVzmDVgxc",
        "outputId": "336f158e-ad11-4639-ca30-2c001ad9ade9"
      },
      "outputs": [
        {
          "name": "stdout",
          "output_type": "stream",
          "text": [
            "Inputs\n",
            " tensor([[ 0.0516,  0.0633,  0.0725,  ..., -0.0003, -0.0021, -0.0061],\n",
            "        [ 0.0204,  0.0287,  0.0283,  ..., -0.0013, -0.0031, -0.0070],\n",
            "        [-0.0460, -0.0357, -0.0650,  ..., -0.0004, -0.0018, -0.0049],\n",
            "        ...,\n",
            "        [-0.0062,  0.0213, -0.0035,  ...,  0.0004, -0.0022, -0.0071],\n",
            "        [-0.0025,  0.0113, -0.0071,  ..., -0.0018, -0.0046, -0.0116],\n",
            "        [ 0.0222,  0.0318,  0.0299,  ..., -0.0027, -0.0042, -0.0077]],\n",
            "       grad_fn=<DivBackward0>)\n",
            "Inputs\n",
            " tensor([[-1.7475e-02, -5.4420e-04, -1.9758e-02,  ...,  5.2119e-04,\n",
            "         -1.6465e-03, -6.0386e-03],\n",
            "        [ 4.6002e-02,  4.7497e-02,  6.4389e-02,  ..., -7.8730e-04,\n",
            "         -2.8921e-03, -7.4425e-03],\n",
            "        [ 1.5575e-02,  2.4970e-02,  2.4710e-02,  ...,  1.1850e-04,\n",
            "         -2.3809e-03, -7.0852e-03],\n",
            "        ...,\n",
            "        [-1.2795e-02,  2.0707e-02, -1.4209e-02,  ..., -6.7962e-04,\n",
            "         -2.2996e-03, -6.4298e-03],\n",
            "        [-9.6385e-02, -8.9048e-02, -1.3050e-01,  ..., -1.1081e-03,\n",
            "         -2.6503e-03, -5.9674e-03],\n",
            "        [-5.9237e-02, -4.6800e-02, -9.0184e-02,  ..., -1.2611e-04,\n",
            "         -1.7235e-03, -5.8636e-03]], grad_fn=<DivBackward0>)\n",
            "Inputs\n",
            " tensor([[-5.6320e-02, -6.0761e-02, -8.3429e-02,  ..., -1.0117e-03,\n",
            "         -2.2196e-03, -6.1581e-03],\n",
            "        [-3.9055e-02, -3.8710e-02, -5.4536e-02,  ..., -3.1459e-03,\n",
            "         -4.5006e-03, -9.1322e-03],\n",
            "        [ 4.0390e-02,  5.4788e-02,  5.8129e-02,  ..., -1.2797e-03,\n",
            "         -2.8338e-03, -6.8849e-03],\n",
            "        ...,\n",
            "        [-7.3757e-03,  3.5975e-03, -1.1840e-02,  ...,  3.9056e-05,\n",
            "         -1.8146e-03, -5.0316e-03],\n",
            "        [ 4.9206e-02,  6.3213e-02,  6.9651e-02,  ...,  4.6356e-04,\n",
            "         -1.3885e-03, -5.4033e-03],\n",
            "        [ 7.2178e-03,  1.5305e-02,  9.0863e-03,  ...,  1.5090e-03,\n",
            "         -3.6199e-04, -3.8827e-03]], grad_fn=<DivBackward0>)\n",
            "Inputs\n",
            " tensor([[-4.0748e-02, -4.4284e-02, -5.6041e-02,  ..., -1.4044e-03,\n",
            "         -2.8383e-03, -6.5773e-03],\n",
            "        [-6.6054e-02, -5.8773e-02, -8.9913e-02,  ...,  2.7733e-04,\n",
            "         -1.2155e-03, -4.6644e-03],\n",
            "        [ 2.5830e-02,  3.4515e-02,  3.6606e-02,  ..., -1.1957e-03,\n",
            "         -3.6944e-03, -7.7078e-03],\n",
            "        ...,\n",
            "        [-6.9682e-02, -5.9423e-02, -9.6267e-02,  ..., -2.8959e-03,\n",
            "         -4.6238e-03, -8.0548e-03],\n",
            "        [ 5.4104e-02,  6.1867e-02,  7.5469e-02,  ..., -6.3254e-05,\n",
            "         -2.3153e-03, -6.3003e-03],\n",
            "        [ 6.5368e-02,  7.4165e-02,  8.8241e-02,  ...,  5.0684e-04,\n",
            "         -1.1958e-03, -4.4586e-03]], grad_fn=<DivBackward0>)\n",
            "Inputs\n",
            " tensor([[-0.0336, -0.0281, -0.0511,  ..., -0.0011, -0.0023, -0.0065],\n",
            "        [ 0.0319,  0.0409,  0.0472,  ..., -0.0012, -0.0032, -0.0073],\n",
            "        [-0.0393, -0.0576, -0.0440,  ..., -0.0019, -0.0036, -0.0076],\n",
            "        ...,\n",
            "        [-0.0025,  0.0113, -0.0071,  ..., -0.0018, -0.0046, -0.0116],\n",
            "        [-0.0307, -0.0220, -0.0461,  ..., -0.0015, -0.0037, -0.0083],\n",
            "        [-0.0562, -0.0444, -0.0809,  ..., -0.0015, -0.0035, -0.0075]],\n",
            "       grad_fn=<DivBackward0>)\n",
            "Inputs\n",
            " tensor([[-0.0154, -0.0091, -0.0292,  ..., -0.0014, -0.0031, -0.0064],\n",
            "        [-0.0803, -0.0732, -0.1137,  ..., -0.0013, -0.0027, -0.0068],\n",
            "        [-0.0838, -0.0781, -0.1189,  ..., -0.0013, -0.0024, -0.0062],\n",
            "        ...,\n",
            "        [-0.0442, -0.0334, -0.0610,  ..., -0.0012, -0.0026, -0.0064],\n",
            "        [ 0.0226,  0.0228,  0.0339,  ..., -0.0009, -0.0037, -0.0088],\n",
            "        [-0.0025,  0.0113, -0.0071,  ..., -0.0018, -0.0046, -0.0116]],\n",
            "       grad_fn=<DivBackward0>)\n",
            "Inputs\n",
            " tensor([[ 0.0387,  0.0349,  0.0603,  ..., -0.0027, -0.0055, -0.0104],\n",
            "        [-0.0014,  0.0217,  0.0031,  ...,  0.0004, -0.0018, -0.0055],\n",
            "        [ 0.0321,  0.0432,  0.0431,  ..., -0.0009, -0.0025, -0.0058],\n",
            "        ...,\n",
            "        [ 0.0551,  0.0687,  0.0750,  ..., -0.0011, -0.0028, -0.0064],\n",
            "        [ 0.0409,  0.0507,  0.0517,  ..., -0.0011, -0.0025, -0.0055],\n",
            "        [-0.0517, -0.0482, -0.0750,  ..., -0.0017, -0.0032, -0.0070]],\n",
            "       grad_fn=<DivBackward0>)\n",
            "Inputs\n",
            " tensor([[ 4.8706e-02,  5.7567e-02,  7.4162e-02,  ..., -1.1976e-03,\n",
            "         -3.4329e-03, -7.7515e-03],\n",
            "        [ 1.1639e-02,  2.2336e-02,  1.5865e-02,  ...,  6.9192e-04,\n",
            "         -1.3783e-03, -4.7433e-03],\n",
            "        [-8.3736e-02, -7.6937e-02, -1.1744e-01,  ...,  5.7711e-04,\n",
            "         -1.3891e-03, -4.7454e-03],\n",
            "        ...,\n",
            "        [ 3.1442e-02,  5.0545e-02,  4.2435e-02,  ..., -1.0547e-04,\n",
            "         -1.7195e-03, -5.5857e-03],\n",
            "        [-2.4505e-03,  1.1320e-02, -7.1470e-03,  ..., -1.7873e-03,\n",
            "         -4.5928e-03, -1.1619e-02],\n",
            "        [-2.4505e-03,  1.1320e-02, -7.1470e-03,  ..., -1.7873e-03,\n",
            "         -4.5928e-03, -1.1619e-02]], grad_fn=<DivBackward0>)\n",
            "Inputs\n",
            " tensor([[-0.0122,  0.0075, -0.0209,  ..., -0.0027, -0.0051, -0.0101],\n",
            "        [ 0.0449,  0.0553,  0.0612,  ..., -0.0011, -0.0030, -0.0068],\n",
            "        [ 0.0372,  0.0534,  0.0554,  ...,  0.0018, -0.0013, -0.0055],\n",
            "        ...,\n",
            "        [-0.0680, -0.0620, -0.0940,  ..., -0.0019, -0.0031, -0.0066],\n",
            "        [-0.0240, -0.0149, -0.0341,  ..., -0.0016, -0.0039, -0.0083],\n",
            "        [ 0.0156,  0.0258,  0.0207,  ...,  0.0011, -0.0007, -0.0046]],\n",
            "       grad_fn=<DivBackward0>)\n"
          ]
        }
      ],
      "source": [
        "outputs = []\n",
        "logits = []\n",
        "for i, (inputs, labels) in enumerate(data_loader):\n",
        "    y, l = model(inputs)\n",
        "    y = norm(y, i)\n",
        "    logits.append(np.array(l.detach().numpy()))\n",
        "    outputs.append(np.array(y.detach().numpy()))"
      ]
    },
    {
      "cell_type": "code",
      "execution_count": null,
      "metadata": {
        "id": "xH28ikKGVmHE"
      },
      "outputs": [],
      "source": [
        "logs = []\n",
        "for i in logits:\n",
        "  for j in i:\n",
        "    logs.append(j)\n",
        "logs = np.array(logs)"
      ]
    },
    {
      "cell_type": "code",
      "execution_count": null,
      "metadata": {
        "id": "_bQBCW2SVmHF"
      },
      "outputs": [],
      "source": [
        "res = []\n",
        "for i in outputs:\n",
        "  for j in i:\n",
        "    res.append(j)\n",
        "res = np.argmax(np.array(res), axis=1)\n",
        "res = res.reshape(-1, 1)"
      ]
    },
    {
      "cell_type": "code",
      "execution_count": null,
      "metadata": {
        "id": "Cq00D5CRY0Gy"
      },
      "outputs": [],
      "source": [
        "logs = np.array(logs.reshape(np.array(logs).shape[0], 64, 512))"
      ]
    },
    {
      "cell_type": "code",
      "execution_count": null,
      "metadata": {
        "id": "nDOwyldCZDqk"
      },
      "outputs": [],
      "source": [
        "logs = np.mean(logs, axis=1)"
      ]
    },
    {
      "cell_type": "code",
      "execution_count": null,
      "metadata": {
        "colab": {
          "base_uri": "https://localhost:8080/"
        },
        "id": "rlhOt3PUZKJ8",
        "outputId": "6687a0a0-a9e2-49d4-b0f4-5b5ab487747d"
      },
      "outputs": [
        {
          "data": {
            "text/plain": [
              "(262, 512)"
            ]
          },
          "execution_count": 40,
          "metadata": {},
          "output_type": "execute_result"
        }
      ],
      "source": [
        "logs.shape"
      ]
    },
    {
      "cell_type": "code",
      "execution_count": null,
      "metadata": {
        "colab": {
          "base_uri": "https://localhost:8080/"
        },
        "id": "ip7QAYDKVmHG",
        "outputId": "c36c3cd3-e88d-4b56-af23-e994e68b1544"
      },
      "outputs": [
        {
          "name": "stdout",
          "output_type": "stream",
          "text": [
            "Resulting NetVLAD++ features :\n",
            "(262, 512)\n",
            "[[ 1.1751916e-05 -7.7137811e-06 -1.0002611e-03 ... -8.8675757e-04\n",
            "  -3.2515099e-04 -8.5695472e-04]\n",
            " [-4.7366851e-04 -4.5433908e-04 -6.3718145e-04 ... -1.1862696e-03\n",
            "  -6.7154842e-04 -1.2971081e-03]\n",
            " [-1.2014932e-03 -9.9281326e-04 -7.2432435e-05 ... -6.3425134e-04\n",
            "  -4.9812731e-04 -8.3622127e-04]\n",
            " ...\n",
            " [-1.3941844e-03 -1.2535795e-03 -1.1545036e-03 ... -4.5588234e-04\n",
            "  -3.2954875e-04 -8.5498049e-04]\n",
            " [-1.5676387e-03 -1.5328301e-03 -5.3181173e-04 ... -9.0133370e-04\n",
            "  -5.1697280e-04 -1.1537601e-03]\n",
            " [-2.4838510e-03 -2.1821815e-03 -2.2762076e-03 ... -1.2918807e-03\n",
            "  -1.0452814e-03 -1.4322335e-03]]\n"
          ]
        }
      ],
      "source": [
        "print(\"Resulting NetVLAD++ features :\")\n",
        "print(logs.shape)\n",
        "print(logs)"
      ]
    },
    {
      "cell_type": "code",
      "execution_count": null,
      "metadata": {
        "colab": {
          "base_uri": "https://localhost:8080/"
        },
        "id": "adyWlD3WVmHG",
        "outputId": "22b5ab74-2c2f-4979-e154-ebde4c1c9e9b"
      },
      "outputs": [
        {
          "name": "stdout",
          "output_type": "stream",
          "text": [
            "(262, 1)\n",
            "(262,)\n"
          ]
        }
      ],
      "source": [
        "print(np.array(res).shape)\n",
        "targ = targs.numpy()\n",
        "print(targ.shape)"
      ]
    },
    {
      "cell_type": "code",
      "execution_count": null,
      "metadata": {
        "colab": {
          "base_uri": "https://localhost:8080/"
        },
        "id": "_rNCTtcAeAko",
        "outputId": "3701d83f-1d52-4e37-8379-529302cb214a"
      },
      "outputs": [
        {
          "name": "stdout",
          "output_type": "stream",
          "text": [
            "Actual :  ['whistle']\n",
            "Predicted :  ['whistle']\n"
          ]
        }
      ],
      "source": [
        "#Testing for a random Sample\n",
        "ind = np.random.randint(len(features))\n",
        "\n",
        "print(\"Actual : \", le.inverse_transform([int(targ[ind])]))\n",
        "print(\"Predicted : \", le.inverse_transform(np.array(res)[ind]))"
      ]
    },
    {
      "cell_type": "code",
      "execution_count": null,
      "metadata": {
        "colab": {
          "base_uri": "https://localhost:8080/"
        },
        "id": "v9UTrNtBiBx3",
        "outputId": "e6b11dc1-142e-4eb9-92df-ef0c80559a76"
      },
      "outputs": [
        {
          "name": "stdout",
          "output_type": "stream",
          "text": [
            "Actual :  ['y-card']\n",
            "Predicted :  ['y-card']\n"
          ]
        }
      ],
      "source": [
        "#Testing for a random Sample - Faulty case\n",
        "ind = np.random.randint(len(features))\n",
        "\n",
        "print(\"Actual : \", le.inverse_transform([int(targ[ind])]))\n",
        "print(\"Predicted : \", le.inverse_transform(np.array(res)[ind]))"
      ]
    },
    {
      "cell_type": "code",
      "execution_count": null,
      "metadata": {
        "id": "SfHNvKwoZZWU"
      },
      "outputs": [],
      "source": [
        "with open('netv.npy', 'wb') as f:\n",
        "  np.save(f, logs)"
      ]
    },
    {
      "cell_type": "code",
      "execution_count": null,
      "metadata": {
        "id": "V5Yh0scfW-l6"
      },
      "outputs": [],
      "source": [
        "import matplotlib.pyplot as plt\n",
        "from tensorflow.keras import Model\n",
        "from tensorflow.keras import Sequential\n",
        "from sklearn.preprocessing import StandardScaler\n",
        "from tensorflow.keras.layers import Dense, Dropout\n",
        "from sklearn.model_selection import train_test_split\n",
        "from tensorflow.keras.losses import MeanSquaredLogarithmicError\n",
        "\n",
        "class AutoEncoders(Model):\n",
        "\n",
        "  def __init__(self, output_units):\n",
        "\n",
        "    super().__init__()\n",
        "    self.encoder = Sequential(\n",
        "        [\n",
        "          Dense(32768, activation=\"relu\"),\n",
        "          Dense(512, activation=\"relu\")\n",
        "        ]\n",
        "    )\n",
        "\n",
        "\n",
        "  def call(self, inputs):\n",
        "\n",
        "    encoded = self.encoder(inputs)\n",
        "    return encoded\n",
        "\n",
        "auto_encoder = AutoEncoders(32768)\n",
        "\n",
        "auto_encoder.compile(\n",
        "    loss='mae',\n",
        "    metrics=['mae'],\n",
        "    optimizer='adam'\n",
        ")\n",
        "\n",
        "history = auto_encoder.fit(\n",
        "    logs,\n",
        "    epochs=1,\n",
        "    batch_size=30\n",
        ")"
      ]
    },
    {
      "cell_type": "code",
      "execution_count": null,
      "metadata": {
        "colab": {
          "base_uri": "https://localhost:8080/",
          "height": 502
        },
        "id": "zNvTwTf2bUjx",
        "outputId": "2bcc36a8-d245-4629-f472-2e6e6e472b6a"
      },
      "outputs": [
        {
          "name": "stderr",
          "output_type": "stream",
          "text": [
            "/usr/local/lib/python3.10/dist-packages/sklearn/preprocessing/_label.py:155: DataConversionWarning: A column-vector y was passed when a 1d array was expected. Please change the shape of y to (n_samples, ), for example using ravel().\n",
            "  y = column_or_1d(y, warn=True)\n"
          ]
        },
        {
          "name": "stdout",
          "output_type": "stream",
          "text": [
            "Action :  ['y-card']\n"
          ]
        },
        {
          "data": {
            "image/png": "[encoded data removed]",
            "text/plain": [
              "<Figure size 640x480 with 1 Axes>"
            ]
          },
          "metadata": {},
          "output_type": "display_data"
        }
      ],
      "source": [
        "import matplotlib.pyplot as plt\n",
        "plt.plot(logs[18])\n",
        "action = le.inverse_transform(np.array(int(targ[18])).reshape(1,1))\n",
        "print(\"Action : \", action)"
      ]
    },
    {
      "cell_type": "code",
      "execution_count": null,
      "metadata": {
        "colab": {
          "base_uri": "https://localhost:8080/",
          "height": 502
        },
        "id": "lXh7BiCsc9Gs",
        "outputId": "c98680c7-8a59-4ae6-96ef-264ca9eefbab"
      },
      "outputs": [
        {
          "name": "stderr",
          "output_type": "stream",
          "text": [
            "/usr/local/lib/python3.10/dist-packages/sklearn/preprocessing/_label.py:155: DataConversionWarning: A column-vector y was passed when a 1d array was expected. Please change the shape of y to (n_samples, ), for example using ravel().\n",
            "  y = column_or_1d(y, warn=True)\n"
          ]
        },
        {
          "name": "stdout",
          "output_type": "stream",
          "text": [
            "Action :  ['y-card']\n"
          ]
        },
        {
          "data": {
            "image/png": "[encoded data removed]",
            "text/plain": [
              "<Figure size 640x480 with 1 Axes>"
            ]
          },
          "metadata": {},
          "output_type": "display_data"
        }
      ],
      "source": [
        "import matplotlib.pyplot as plt\n",
        "plt.plot(logs[10])\n",
        "action = le.inverse_transform(np.array(int(targ[10])).reshape(1,1))\n",
        "print(\"Action : \", action)"
      ]
    },
    {
      "cell_type": "code",
      "execution_count": null,
      "metadata": {
        "colab": {
          "base_uri": "https://localhost:8080/",
          "height": 38
        },
        "id": "TgYw5CeumbWZ",
        "outputId": "b50d05b3-8410-432f-f372-3c686043b834"
      },
      "outputs": [
        {
          "data": {
            "application/vnd.google.colaboratory.intrinsic+json": {
              "type": "string"
            },
            "text/plain": [
              "'/content/drive/MyDrive/SoccerNet/2016-08-14 - 18-00 Arsenal 3 - 4 Liverpool/temp1clip81'"
            ]
          },
          "execution_count": 210,
          "metadata": {},
          "output_type": "execute_result"
        }
      ],
      "source": [
        "file_names[18]"
      ]
    },
    {
      "cell_type": "markdown",
      "metadata": {
        "id": "nL8g13OMGzFL"
      },
      "source": [
        "#misc netvlad"
      ]
    },
    {
      "cell_type": "code",
      "execution_count": null,
      "metadata": {
        "id": "xf1PEyg3oc-G"
      },
      "outputs": [],
      "source": [
        "from tqdm import tqdm\n",
        "inp = torch.from_numpy(X_train).float()\n",
        "tes = torch.from_numpy(X_test).float()\n",
        "op=torch.from_numpy(y_train).float()\n",
        "top=torch.from_numpy(y_test).float()\n",
        "\n",
        "model = Model(input_size=512)\n",
        "criterion = NLLLoss()\n",
        "optimizer = torch.optim.Adam(model.parameters(), lr=0.001)\n",
        "train = torch.utils.data.TensorDataset(inp, op)\n",
        "train_loader = torch.utils.data.DataLoader(train, batch_size=30, shuffle=True)\n",
        "test = torch.utils.data.TensorDataset(tes, top)\n",
        "test_loader = torch.utils.data.DataLoader(test, batch_size=30, shuffle=True)\n",
        "\n",
        "# Training\n",
        "for epoch in range(1):\n",
        "  for i, (inputs, labels) in enumerate(train_loader):\n",
        "        optimizer.zero_grad()\n",
        "        outputs, logit = model(inputs)\n",
        "        print(outputs)\n",
        "        loss = criterion(outputs, labels)\n",
        "        loss.backward()\n",
        "        #optimizer.step()\n",
        "        #if (i+1) % 100 == 0:\n",
        "        #   print('Epoch [{}/{}], Step [{}/{}], Loss: {:.4f}'.format(epoch+1, num_epochs, i+1, total_step, loss.item()))\n",
        "\n",
        "# Testing\n",
        "with torch.no_grad():\n",
        "    correct = 0\n",
        "    total = 0\n",
        "    for i, (inputs, labels) in enumerate(test_loader):\n",
        "        outputs, logit = model(inputs)\n",
        "        _, predicted = torch.max(outputs.data, 1)\n",
        "        total += labels.size(0)\n",
        "        correct += (predicted == labels).sum().item()\n",
        "    print('Accuracy of the model on the test data: {} %'.format(100 * correct / total))"
      ]
    },
    {
      "cell_type": "code",
      "execution_count": null,
      "metadata": {
        "id": "P1bI7oABewUN"
      },
      "outputs": [],
      "source": [
        "train = torch.utils.data.TensorDataset(inp, op)\n",
        "train_dataloader = torch.utils.data.DataLoader(train, batch_size=30, shuffle=True)\n",
        "train_features, train_labels = next(iter(train_dataloader))\n",
        "print(f\"Feature batch shape: {train_features.size()}\")\n",
        "print(f\"Labels batch shape: {train_labels.size()}\")\n",
        "print(train_labels[0])"
      ]
    },
    {
      "cell_type": "code",
      "execution_count": null,
      "metadata": {
        "id": "3BHitZdlfjGc"
      },
      "outputs": [],
      "source": [
        "for batch_idx, (data, target) in enumerate(train_dataloader):\n",
        "    # do something with the data and target tensors\n",
        "    print(f\"Batch index: {batch_idx}\")\n",
        "    print(f\"Data tensor shape: {data.shape}\")\n",
        "    print(f\"Target tensor shape: {target.shape}\")\n",
        "    print(target)"
      ]
    },
    {
      "cell_type": "code",
      "execution_count": null,
      "metadata": {
        "id": "iFN3fWFeYcPG"
      },
      "outputs": [],
      "source": [
        "#inp = torch.rand([10,60,1536]).float()\n",
        "from tqdm import tqdm\n",
        "inp = torch.from_numpy(X_train).float()\n",
        "tes = torch.from_numpy(X_test).float()\n",
        "op=torch.from_numpy(y_train).float()\n",
        "top=torch.from_numpy(y_test).float()\n",
        "\n",
        "model = Model(input_size=512, framerate=2, window_size=30)\n",
        "criterion = NLLLoss()\n",
        "optimizer = torch.optim.Adam(model.parameters(), lr=0.001)\n",
        "train = torch.utils.data.TensorDataset(inp, op)\n",
        "train_loader = torch.utils.data.DataLoader(train, batch_size=X_train.shape[0], shuffle=True)\n",
        "test = torch.utils.data.TensorDataset(tes, top)\n",
        "test_loader = torch.utils.data.DataLoader(test, batch_size=X_test.shape[0], shuffle=True)\n",
        "\n",
        "# Training\n",
        "for epoch in range(200):\n",
        "  with tqdm(enumerate(train_loader), total=len(train_loader)) as t:\n",
        "    for i, (inputs, labels) in t:\n",
        "        print('Labels :', labels)\n",
        "        optimizer.zero_grad()\n",
        "        outputs, logit = model(inputs)\n",
        "        loss = criterion(outputs, labels)\n",
        "        loss.backward()\n",
        "        optimizer.step()\n",
        "        if (i+1) % 100 == 0:\n",
        "           print('Epoch [{}/{}], Step [{}/{}], Loss: {:.4f}'.format(epoch+1, num_epochs, i+1, total_step, loss.item()))\n",
        "\n",
        "# Testing\n",
        "with torch.no_grad():\n",
        "    correct = 0\n",
        "    total = 0\n",
        "    for inputs, labels in test_loader:\n",
        "        outputs, logit = model(inputs)\n",
        "        _, predicted = torch.max(outputs.data, 1)\n",
        "        total += labels.size(0)\n",
        "        #print(\"Predicted :\", predicted.shape)\n",
        "        #print(\"Labels :\", labels.shape)\n",
        "        correct += (predicted == labels).sum().item()\n",
        "    print('Accuracy of the model on the test data: {} %'.format(100 * correct / total))\n"
      ]
    },
    {
      "cell_type": "code",
      "execution_count": null,
      "metadata": {
        "id": "BwiEL_C6XNlJ"
      },
      "outputs": [],
      "source": [
        "print(logit.shape)"
      ]
    },
    {
      "cell_type": "code",
      "execution_count": null,
      "metadata": {
        "id": "zwXOMPoQdaRS"
      },
      "outputs": [],
      "source": [
        "inp = torch.rand([250,60,8500]).float()\n",
        "#inp = torch.from_numpy(feats)\n",
        "tes = torch.rand([30,60,8500]).float()\n",
        "op=torch.rand([250,1]).float()\n",
        "top=torch.rand([30,1]).float()\n",
        "\n",
        "model = Model(input_size=8500, framerate=2, window_size=30)\n",
        "criterion = NLLLoss()\n",
        "optimizer = torch.optim.Adam(model.parameters(), lr=0.001)\n",
        "train = torch.utils.data.TensorDataset(inp, op)\n",
        "train_loader = torch.utils.data.DataLoader(train, batch_size=50, shuffle=True)\n",
        "test = torch.utils.data.TensorDataset(tes, top)\n",
        "test_loader = torch.utils.data.DataLoader(test, batch_size=50, shuffle=True)\n",
        "\n",
        "# Training\n",
        "for epoch in range(200):\n",
        "    for i, (inputs, labels) in enumerate(train_loader):\n",
        "        optimizer.zero_grad()\n",
        "        outputs, logit = model(inputs)\n",
        "        loss = criterion(outputs, labels)\n",
        "        #print(loss)\n",
        "        loss.backward()\n",
        "        optimizer.step()\n",
        "        if (i+1) % 100 == 0:\n",
        "            print('Epoch [{}/{}], Step [{}/{}], Loss: {:.4f}'.format(epoch+1, num_epochs, i+1, total_step, loss.item()))\n",
        "\n",
        "# Testing\n",
        "with torch.no_grad():\n",
        "    correct = 0\n",
        "    total = 0\n",
        "    for inputs, labels in test_loader:\n",
        "        outputs, logit = model(inputs)\n",
        "        _, predicted = torch.max(outputs.data, 1)\n",
        "        total += labels.size(0)\n",
        "        print(\"Predicted :\", predicted.shape)\n",
        "        print(\"Labels :\", labels.shape)\n",
        "        correct += (predicted == labels).sum().item()\n",
        "    print('Accuracy of the model on the test data: {} %'.format(100 * correct / total))\n"
      ]
    },
    {
      "cell_type": "markdown",
      "metadata": {
        "id": "UQ5VQltVEa3O"
      },
      "source": [
        "#Audio"
      ]
    },
    {
      "cell_type": "code",
      "execution_count": null,
      "metadata": {
        "id": "HF72eijAWOLv"
      },
      "outputs": [],
      "source": [
        "!pip install numpy==1.21.6 resampy==0.2.2 tensorflow==2.8.2 tf_slim==1.1.0 six soundfile"
      ]
    },
    {
      "cell_type": "code",
      "execution_count": null,
      "metadata": {
        "id": "D_BNSeuiINWR"
      },
      "outputs": [],
      "source": [
        "!git clone https://github.com/tensorflow/models.git\n",
        "!cd models/research/audioset/vggish\n",
        "# Download data files into same directory as code.\n",
        "!curl -O https://storage.googleapis.com/audioset/vggish_model.ckpt\n",
        "!curl -O https://storage.googleapis.com/audioset/vggish_pca_params.npz"
      ]
    },
    {
      "cell_type": "code",
      "execution_count": null,
      "metadata": {
        "id": "g6sZU12ZKoNf"
      },
      "outputs": [],
      "source": [
        "!cp models/research/audioset/vggish/* .\n",
        "!ls"
      ]
    },
    {
      "cell_type": "code",
      "execution_count": null,
      "metadata": {
        "id": "qj-d_XrlLQ6H"
      },
      "outputs": [],
      "source": [
        "!python vggish_smoke_test.py"
      ]
    },
    {
      "cell_type": "code",
      "execution_count": null,
      "metadata": {
        "id": "cwpf3mAzMPHY"
      },
      "outputs": [],
      "source": [
        "import tensorflow as tf\n",
        "tf.compat.v1.disable_eager_execution()"
      ]
    },
    {
      "cell_type": "code",
      "execution_count": null,
      "metadata": {
        "id": "WzAq0I36YWjw"
      },
      "outputs": [],
      "source": [
        "import vggish_slim\n",
        "import vggish_params\n",
        "import vggish_input\n",
        "\n",
        "def CreateVGGishNetwork(hop_size=0.96):   # Hop size is in seconds.\n",
        "  \"\"\"Define VGGish model, load the checkpoint, and return a dictionary that points\n",
        "  to the different tensors defined by the model.\n",
        "  \"\"\"\n",
        "  vggish_slim.define_vggish_slim()\n",
        "  checkpoint_path = 'vggish_model.ckpt'\n",
        "  vggish_params.EXAMPLE_HOP_SECONDS = hop_size\n",
        "  vggish_slim.load_vggish_slim_checkpoint(sess, checkpoint_path)\n",
        "  features_tensor = sess.graph.get_tensor_by_name(\n",
        "      vggish_params.INPUT_TENSOR_NAME)\n",
        "  embedding_tensor = sess.graph.get_tensor_by_name(\n",
        "      vggish_params.OUTPUT_TENSOR_NAME)\n",
        "  layers = {'conv1': 'vggish/conv1/Relu',\n",
        "            'pool1': 'vggish/pool1/MaxPool',\n",
        "            'conv2': 'vggish/conv2/Relu',\n",
        "            'pool2': 'vggish/pool2/MaxPool',\n",
        "            'conv3': 'vggish/conv3/conv3_2/Relu',\n",
        "            'pool3': 'vggish/pool3/MaxPool',\n",
        "            'conv4': 'vggish/conv4/conv4_2/Relu',\n",
        "            'pool4': 'vggish/pool4/MaxPool',\n",
        "            'fc1': 'vggish/fc1/fc1_2/Relu',\n",
        "            #'fc2': 'vggish/fc2/Relu',\n",
        "            'embedding': 'vggish/embedding',\n",
        "            'features': 'vggish/input_features',\n",
        "         }\n",
        "  g = tf.compat.v1.get_default_graph()\n",
        "  for k in layers:\n",
        "    layers[k] = g.get_tensor_by_name( layers[k] + ':0')\n",
        "  return {'features': features_tensor,\n",
        "          'embedding': embedding_tensor,\n",
        "          'layers': layers,\n",
        "         }"
      ]
    },
    {
      "cell_type": "code",
      "execution_count": null,
      "metadata": {
        "id": "XVOJHwu0YgS8"
      },
      "outputs": [],
      "source": [
        "import vggish_postprocess\n",
        "def ProcessWithVGGish(vgg, x, sr):\n",
        "  '''Run the VGGish model, starting with a sound (x) at sample rate\n",
        "  (sr). Return a whitened version of the embeddings. Sound must be scaled to be\n",
        "  floats between -1 and +1.'''\n",
        "  # Produce a batch of log mel spectrogram examples.\n",
        "  input_batch = vggish_input.waveform_to_examples(x, sr)\n",
        "  # print('Log Mel Spectrogram example: ', input_batch[0])\n",
        "  [embedding_batch] = sess.run([vgg['embedding']],\n",
        "                               feed_dict={vgg['features']: input_batch})\n",
        "  # Postprocess the results to produce whitened quantized embeddings.\n",
        "  pca_params_path = 'vggish_pca_params.npz'\n",
        "  pproc = vggish_postprocess.Postprocessor(pca_params_path)\n",
        "  postprocessed_batch = pproc.postprocess(embedding_batch)\n",
        "  # print('Postprocessed VGGish embedding: ', postprocessed_batch[0])\n",
        "  return postprocessed_batch[0]"
      ]
    },
    {
      "cell_type": "code",
      "execution_count": null,
      "metadata": {
        "colab": {
          "base_uri": "https://localhost:8080/"
        },
        "id": "H7Ci2lHeYhrP",
        "outputId": "8493ee0c-362e-4452-df22-36c572675e83"
      },
      "outputs": [
        {
          "name": "stderr",
          "output_type": "stream",
          "text": [
            "WARNING:py.warnings:/usr/local/lib/python3.9/dist-packages/tensorflow/python/keras/engine/base_layer_v1.py:1694: UserWarning: `layer.apply` is deprecated and will be removed in a future version. Please use `layer.__call__` method instead.\n",
            "  warnings.warn('`layer.apply` is deprecated and '\n",
            "\n",
            "WARNING:py.warnings:/usr/local/lib/python3.9/dist-packages/tensorflow/python/keras/legacy_tf_layers/core.py:332: UserWarning: `tf.layers.flatten` is deprecated and will be removed in a future version. Please use `tf.keras.layers.Flatten` instead.\n",
            "  warnings.warn('`tf.layers.flatten` is deprecated and '\n",
            "\n"
          ]
        },
        {
          "name": "stdout",
          "output_type": "stream",
          "text": [
            "MoviePy - Writing audio in temp.wav\n"
          ]
        },
        {
          "name": "stderr",
          "output_type": "stream",
          "text": []
        },
        {
          "name": "stdout",
          "output_type": "stream",
          "text": [
            "MoviePy - Done.\n"
          ]
        }
      ],
      "source": [
        "# Test these new functions with the original test.\n",
        "import numpy as np\n",
        "import librosa\n",
        "from moviepy.editor import *\n",
        "tf.compat.v1.disable_eager_execution()\n",
        "\n",
        "tf.compat.v1.reset_default_graph()\n",
        "\n",
        "sess = tf.compat.v1.Session()\n",
        "\n",
        "vgg = CreateVGGishNetwork(0.01)\n",
        "\n",
        "# Generate a 1 kHz sine wave at 44.1 kHz (we use a high sampling rate\n",
        "# to test resampling to 16 kHz during feature extraction).\n",
        "num_secs = 3\n",
        "freq = 1000\n",
        "sr = 44100\n",
        "t = np.linspace(0, num_secs, int(num_secs * sr))\n",
        "#x = np.sin(2 * np.pi * freq * t)  # Unit amplitude input signal\n",
        "\n",
        "my_clip = VideoFileClip(r'1clip1.mkv')\n",
        "x = my_clip.audio\n",
        "x.write_audiofile('temp.wav')\n",
        "x, sampling_rate = librosa.load(r'temp.wav',res_type='kaiser_fast')\n",
        "os.remove(r'temp.wav')\n",
        "postprocessed_batch = ProcessWithVGGish(vgg, x, sr)\n",
        "\n",
        "# print('Postprocessed VGGish embedding: ', postprocessed_batch[0])\n",
        "expected_postprocessed_mean = 122.0\n",
        "expected_postprocessed_std = 93.0\n",
        "#np.testing.assert_allclose(\n",
        "#    [np.mean(postprocessed_batch), np.std(postprocessed_batch)],\n",
        "#    [expected_postprocessed_mean, expected_postprocessed_std],\n",
        "#    rtol=rel_error)"
      ]
    },
    {
      "cell_type": "code",
      "execution_count": null,
      "metadata": {
        "id": "DdCQGgN-Y1u9"
      },
      "outputs": [],
      "source": [
        "def EmbeddingsFromVGGish(vgg, x, sr):\n",
        "  '''Run the VGGish model, starting with a sound (x) at sample rate\n",
        "  (sr). Return a dictionary of embeddings from the different layers\n",
        "  of the model.'''\n",
        "  # Produce a batch of log mel spectrogram examples.\n",
        "  input_batch = vggish_input.waveform_to_examples(x, sr)\n",
        "  # print('Log Mel Spectrogram example: ', input_batch[0])\n",
        "  layer_names = vgg['layers'].keys()\n",
        "  tensors = [vgg['layers'][k] for k in layer_names]\n",
        "  results = sess.run(tensors,\n",
        "                     feed_dict={vgg['features']: input_batch})\n",
        "  resdict = {}\n",
        "  for i, k in enumerate(layer_names):\n",
        "    resdict[k] = results[i]\n",
        "  return resdict"
      ]
    },
    {
      "cell_type": "code",
      "execution_count": null,
      "metadata": {
        "id": "thJY7tDqY5pu"
      },
      "outputs": [],
      "source": [
        "resdict = EmbeddingsFromVGGish(vgg, x, sr)"
      ]
    },
    {
      "cell_type": "code",
      "execution_count": null,
      "metadata": {
        "colab": {
          "base_uri": "https://localhost:8080/"
        },
        "id": "cP5vW16XY7bx",
        "outputId": "407a6c79-3f6d-4f99-eb29-740462b1f85e"
      },
      "outputs": [
        {
          "name": "stdout",
          "output_type": "stream",
          "text": [
            "conv1 (1405, 96, 64, 64)\n",
            "pool1 (1405, 48, 32, 64)\n",
            "conv2 (1405, 48, 32, 128)\n",
            "pool2 (1405, 24, 16, 128)\n",
            "conv3 (1405, 24, 16, 256)\n",
            "pool3 (1405, 12, 8, 256)\n",
            "conv4 (1405, 12, 8, 512)\n",
            "pool4 (1405, 6, 4, 512)\n",
            "fc1 (1405, 4096)\n",
            "embedding (1405, 128)\n",
            "features (1405, 96, 64)\n"
          ]
        }
      ],
      "source": [
        "for k in resdict:\n",
        "  print(k, resdict[k].shape)"
      ]
    },
    {
      "cell_type": "markdown",
      "metadata": {
        "id": "otJ8u4f8vUcJ"
      },
      "source": [
        "#misc"
      ]
    },
    {
      "cell_type": "code",
      "execution_count": null,
      "metadata": {
        "id": "bS7wYleUNTby"
      },
      "outputs": [],
      "source": [
        "model = Model(input_size=8700, framerate=2, window_size=30)\n",
        "print(model)\n",
        "\n",
        "print(inp.shape)\n",
        "output = model(inp)\n",
        "print(output.shape)"
      ]
    },
    {
      "cell_type": "code",
      "execution_count": null,
      "metadata": {
        "colab": {
          "base_uri": "https://localhost:8080/",
          "height": 287
        },
        "id": "nhGij98VbbAl",
        "outputId": "432cd7c5-f049-44fb-97ef-7ee117a83d45"
      },
      "outputs": [
        {
          "ename": "AttributeError",
          "evalue": "ignored",
          "output_type": "error",
          "traceback": [
            "\u001b[0;31m---------------------------------------------------------------------------\u001b[0m",
            "\u001b[0;31mAttributeError\u001b[0m                            Traceback (most recent call last)",
            "\u001b[0;32m<ipython-input-71-6296578c8885>\u001b[0m in \u001b[0;36m<cell line: 1>\u001b[0;34m()\u001b[0m\n\u001b[0;32m----> 1\u001b[0;31m \u001b[0mmodel\u001b[0m\u001b[0;34m.\u001b[0m\u001b[0mtest\u001b[0m\u001b[0;34m(\u001b[0m\u001b[0mtorch\u001b[0m\u001b[0;34m.\u001b[0m\u001b[0mrand\u001b[0m\u001b[0;34m(\u001b[0m\u001b[0;34m[\u001b[0m\u001b[0;36m10\u001b[0m\u001b[0;34m,\u001b[0m\u001b[0;36m60\u001b[0m\u001b[0;34m,\u001b[0m\u001b[0;36m8700\u001b[0m\u001b[0;34m]\u001b[0m\u001b[0;34m)\u001b[0m\u001b[0;34m)\u001b[0m\u001b[0;34m\u001b[0m\u001b[0;34m\u001b[0m\u001b[0m\n\u001b[0m",
            "\u001b[0;32m/usr/local/lib/python3.9/dist-packages/torch/nn/modules/module.py\u001b[0m in \u001b[0;36m__getattr__\u001b[0;34m(self, name)\u001b[0m\n\u001b[1;32m   1612\u001b[0m             \u001b[0;32mif\u001b[0m \u001b[0mname\u001b[0m \u001b[0;32min\u001b[0m \u001b[0mmodules\u001b[0m\u001b[0;34m:\u001b[0m\u001b[0;34m\u001b[0m\u001b[0;34m\u001b[0m\u001b[0m\n\u001b[1;32m   1613\u001b[0m                 \u001b[0;32mreturn\u001b[0m \u001b[0mmodules\u001b[0m\u001b[0;34m[\u001b[0m\u001b[0mname\u001b[0m\u001b[0;34m]\u001b[0m\u001b[0;34m\u001b[0m\u001b[0;34m\u001b[0m\u001b[0m\n\u001b[0;32m-> 1614\u001b[0;31m         raise AttributeError(\"'{}' object has no attribute '{}'\".format(\n\u001b[0m\u001b[1;32m   1615\u001b[0m             type(self).__name__, name))\n\u001b[1;32m   1616\u001b[0m \u001b[0;34m\u001b[0m\u001b[0m\n",
            "\u001b[0;31mAttributeError\u001b[0m: 'Model' object has no attribute 'test'"
          ]
        }
      ],
      "source": [
        "model.test(torch.rand([10,60,8700]))"
      ]
    },
    {
      "cell_type": "code",
      "execution_count": null,
      "metadata": {
        "id": "lrINOFq-Z4Os"
      },
      "outputs": [],
      "source": [
        "import logging\n",
        "import os\n",
        "import zipfile\n",
        "import sys\n",
        "import json\n",
        "import time\n",
        "from tqdm import tqdm\n",
        "import torch\n",
        "import numpy as np\n",
        "\n",
        "import sklearn\n",
        "import sklearn.metrics\n",
        "from sklearn.metrics import average_precision_score\n",
        "\n",
        "\n",
        "\n",
        "\n",
        "def trainer(train_loader,\n",
        "            val_loader,\n",
        "            val_metric_loader,\n",
        "            model,\n",
        "            optimizer,\n",
        "            scheduler,\n",
        "            criterion,\n",
        "            model_name,\n",
        "            max_epochs=1000,\n",
        "            evaluation_frequency=20):\n",
        "\n",
        "    logging.info(\"start training\")\n",
        "\n",
        "    best_loss = 9e99\n",
        "\n",
        "    for epoch in range(max_epochs):\n",
        "        best_model_path = os.path.join(\"models\", model_name, \"model.pth.tar\")\n",
        "\n",
        "        # train for one epoch\n",
        "        loss_training = train(train_loader, model, criterion,\n",
        "                              optimizer, epoch + 1, train=True)\n",
        "\n",
        "        # evaluate on validation set\n",
        "        loss_validation = train(\n",
        "            val_loader, model, criterion, optimizer, epoch + 1, train=False)\n",
        "\n",
        "        state = {\n",
        "            'epoch': epoch + 1,\n",
        "            'state_dict': model.state_dict(),\n",
        "            'best_loss': best_loss,\n",
        "            'optimizer': optimizer.state_dict(),\n",
        "        }\n",
        "        os.makedirs(os.path.join(\"models\", model_name), exist_ok=True)\n",
        "\n",
        "        # remember best prec@1 and save checkpoint\n",
        "        is_better = loss_validation < best_loss\n",
        "        best_loss = min(loss_validation, best_loss)\n",
        "\n",
        "        # Save the best model based on loss only if the evaluation frequency too long\n",
        "        if is_better:\n",
        "            torch.save(state, best_model_path)\n",
        "\n",
        "        # Test the model on the validation set\n",
        "        if epoch % evaluation_frequency == 0 and epoch != 0:\n",
        "            performance_validation = test(\n",
        "                val_metric_loader,\n",
        "                model,\n",
        "                model_name)\n",
        "\n",
        "            logging.info(\"Validation performance at epoch \" +\n",
        "                         str(epoch+1) + \" -> \" + str(performance_validation))\n",
        "\n",
        "        # Reduce LR on Plateau after patience reached\n",
        "        prevLR = optimizer.param_groups[0]['lr']\n",
        "        scheduler.step(loss_validation)\n",
        "        currLR = optimizer.param_groups[0]['lr']\n",
        "        if (currLR is not prevLR and scheduler.num_bad_epochs == 0):\n",
        "            logging.info(\"Plateau Reached!\")\n",
        "\n",
        "        if (prevLR < 2 * scheduler.eps and\n",
        "                scheduler.num_bad_epochs >= scheduler.patience):\n",
        "            logging.info(\n",
        "                \"Plateau Reached and no more reduction -> Exiting Loop\")\n",
        "            break\n",
        "\n",
        "    return\n",
        "\n",
        "\n",
        "def train(dataloader,\n",
        "          model,\n",
        "          criterion,\n",
        "          optimizer,\n",
        "          epoch,\n",
        "          train=False):\n",
        "\n",
        "    #batch_time = AverageMeter()\n",
        "    #data_time = AverageMeter()\n",
        "    #losses = AverageMeter()\n",
        "\n",
        "    # switch to train mode\n",
        "    if train:\n",
        "        model.train()\n",
        "    else:\n",
        "        model.eval()\n",
        "\n",
        "    end = time.time()\n",
        "    with tqdm(enumerate(dataloader), total=len(dataloader)) as t:\n",
        "        for i, (feats, labels) in t:\n",
        "            # measure data loading time\n",
        "            #data_time.update(time.time() - end)\n",
        "            #feats = feats.cuda()\n",
        "            #labels = labels.cuda()\n",
        "            # compute output\n",
        "            output = model(feats).double()\n",
        "\n",
        "            # hand written NLL criterion\n",
        "            loss = criterion(labels, output)\n",
        "\n",
        "            # measure accuracy and record loss\n",
        "            #losses.update(loss.item(), feats.size(0))\n",
        "\n",
        "            if train:\n",
        "                # compute gradient and do SGD step\n",
        "                optimizer.zero_grad()\n",
        "                loss.backward()\n",
        "                optimizer.step()\n",
        "\n",
        "            # measure elapsed time\n",
        "            #batch_time.update(time.time() - end)\n",
        "            end = time.time()\n",
        "\n",
        "            if train:\n",
        "                desc = f'Train {epoch}: '\n",
        "            else:\n",
        "                desc = f'Evaluate {epoch}: '\n",
        "            #desc += f'Time {batch_time.avg:.3f}s '\n",
        "            #desc += f'(it:{batch_time.val:.3f}s) '\n",
        "            #desc += f'Data:{data_time.avg:.3f}s '\n",
        "            #desc += f'(it:{data_time.val:.3f}s) '\n",
        "            #desc += f'Loss {losses.avg:.4e} '\n",
        "            t.set_description(desc)\n",
        "\n",
        "    return loss.avg\n",
        "\n",
        "\n",
        "def test(dataloader, model, model_name):\n",
        "\n",
        "    model.eval()\n",
        "\n",
        "    end = time.time()\n",
        "    all_labels = []\n",
        "    all_outputs = []\n",
        "    with tqdm(enumerate(dataloader), total=len(dataloader)) as t:\n",
        "        for i, (feats, labels) in t:\n",
        "            # measure data loading time\n",
        "           # data_time.update(time.time() - end)\n",
        "            #feats = feats.cuda()\n",
        "            # labels = labels.cuda()\n",
        "\n",
        "            # print(feats.shape)\n",
        "            # feats=feats.unsqueeze(0)\n",
        "            # print(feats.shape)\n",
        "\n",
        "            # compute output\n",
        "            output = model(feats)\n",
        "\n",
        "            all_labels.append(labels.detach().numpy())\n",
        "            all_outputs.append(output.cpu().detach().numpy())\n",
        "\n",
        "            #batch_time.update(time.time() - end)\n",
        "            end = time.time()\n",
        "\n",
        "            desc = f'Test (cls): '\n",
        "            #desc += f'Time {batch_time.avg:.3f}s '\n",
        "            #desc += f'(it:{batch_time.val:.3f}s) '\n",
        "            #desc += f'Data:{data_time.avg:.3f}s '\n",
        "            #desc += f'(it:{data_time.val:.3f}s) '\n",
        "            t.set_description(desc)\n",
        "\n",
        "    AP = []\n",
        "    for i in range(1, dataloader.dataset.num_classes+1):\n",
        "        AP.append(average_precision_score(np.concatenate(all_labels)\n",
        "                                          [:, i], np.concatenate(all_outputs)[:, i]))\n",
        "\n",
        "    # t.set_description()\n",
        "    # print(AP)\n",
        "    mAP = np.mean(AP)\n",
        "    print(mAP, AP)\n",
        "\n",
        "    return mAP"
      ]
    },
    {
      "cell_type": "code",
      "execution_count": null,
      "metadata": {
        "id": "YK1iQWgwMInS"
      },
      "outputs": [],
      "source": [
        "from torch.utils.data import Dataset\n",
        "class SoccerNetClips():\n",
        "    def __init__(self, framerate=2, window_size=15, split=['train']):\n",
        "        self.window_size_frame = window_size*framerate\n",
        "        self.num_classes = 17\n",
        "        self.labels=\"Labels.json\"\n",
        "        logging.info(\"Checking/Download features and labels locally\")\n",
        "        logging.info(\"Pre-compute clips\")\n",
        "\n",
        "        self.game_feats = list()\n",
        "        self.game_labels = list()\n",
        "        self.game_feats = np.random.rand(100, 60, 8700)\n",
        "        self.game_labels = np.random.randint(0,17,(100,1))\n",
        "\n",
        "    def __getitem__(self, index):\n",
        "        \"\"\"\n",
        "        Args:\n",
        "            index (int): Index\n",
        "        Returns:\n",
        "            clip_feat (np.array): clip of features.\n",
        "            clip_labels (np.array): clip of labels for the segmentation.\n",
        "            clip_targets (np.array): clip of targets for the spotting.\n",
        "        \"\"\"\n",
        "        return self.game_feats[index,:,:], self.game_labels[index,:]\n",
        "\n",
        "    def __len__(self):\n",
        "        return len(self.game_feats)"
      ]
    },
    {
      "cell_type": "code",
      "execution_count": null,
      "metadata": {
        "id": "rf7wY18XNX3I"
      },
      "outputs": [],
      "source": [
        "dataset_Train = SoccerNetClips()\n",
        "dataset_Valid = SoccerNetClips()\n",
        "dataset_Valid_metric = SoccerNetClips()"
      ]
    },
    {
      "cell_type": "code",
      "execution_count": null,
      "metadata": {
        "id": "Vhc5j6VGFl11"
      },
      "outputs": [],
      "source": [
        "train_loader = torch.utils.data.DataLoader(dataset_Train,\n",
        "            batch_size=125, shuffle=True,\n",
        "            num_workers=3, pin_memory=True)\n",
        "\n",
        "val_loader = torch.utils.data.DataLoader(dataset_Valid,\n",
        "            batch_size=125, shuffle=False,\n",
        "            num_workers=3, pin_memory=True)\n",
        "\n",
        "val_metric_loader = torch.utils.data.DataLoader(dataset_Valid_metric,\n",
        "            batch_size=125, shuffle=False,\n",
        "            num_workers=3, pin_memory=True)\n",
        "\n",
        "\n",
        "    # training parameters\n",
        "criterion = NLLLoss()\n",
        "optimizer = torch.optim.Adam(model.parameters(), lr=0.001,\n",
        "                             betas=(0.9, 0.999), eps=1e-08,\n",
        "                                    weight_decay=0, amsgrad=False)\n",
        "\n",
        "scheduler = torch.optim.lr_scheduler.ReduceLROnPlateau(optimizer, 'min', verbose=True, patience=10)\n",
        "\n",
        "        # start training\n",
        "trainer(train_loader, val_loader, val_metric_loader,\n",
        "                model, optimizer, scheduler, criterion,\n",
        "                model_name=\"NETVLAD++\",\n",
        "                max_epochs=20, evaluation_frequency=3)\n",
        "\n",
        "    # For the best model only\n",
        "checkpoint = torch.load(os.path.join(\"models\", \"NETVLAD++\", \"model.pth.tar\"))\n",
        "model.load_state_dict(checkpoint['state_dict'])"
      ]
    },
    {
      "cell_type": "code",
      "execution_count": null,
      "metadata": {
        "colab": {
          "base_uri": "https://localhost:8080/",
          "height": 218
        },
        "id": "gjdVrq9S0fUz",
        "outputId": "b52176c7-ff66-4ab4-e81b-c3a843d0447f"
      },
      "outputs": [
        {
          "ename": "NameError",
          "evalue": "ignored",
          "output_type": "error",
          "traceback": [
            "\u001b[0;31m---------------------------------------------------------------------------\u001b[0m",
            "\u001b[0;31mNameError\u001b[0m                                 Traceback (most recent call last)",
            "\u001b[0;32m<ipython-input-32-31c2c6511f72>\u001b[0m in \u001b[0;36m<cell line: 7>\u001b[0;34m()\u001b[0m\n\u001b[1;32m      5\u001b[0m \u001b[0mfeat_in\u001b[0m \u001b[0;34m=\u001b[0m \u001b[0mtorch\u001b[0m\u001b[0;34m.\u001b[0m\u001b[0mrand\u001b[0m\u001b[0;34m(\u001b[0m\u001b[0;34m(\u001b[0m\u001b[0;36m1\u001b[0m\u001b[0;34m,\u001b[0m\u001b[0;36m30\u001b[0m\u001b[0;34m,\u001b[0m \u001b[0;36m8700\u001b[0m\u001b[0;34m)\u001b[0m\u001b[0;34m)\u001b[0m\u001b[0;34m\u001b[0m\u001b[0;34m\u001b[0m\u001b[0m\n\u001b[1;32m      6\u001b[0m \u001b[0mfeat_af_in\u001b[0m \u001b[0;34m=\u001b[0m \u001b[0mtorch\u001b[0m\u001b[0;34m.\u001b[0m\u001b[0mrand\u001b[0m\u001b[0;34m(\u001b[0m\u001b[0;34m(\u001b[0m\u001b[0;36m1\u001b[0m\u001b[0;34m,\u001b[0m\u001b[0;36m30\u001b[0m\u001b[0;34m,\u001b[0m \u001b[0;36m8700\u001b[0m\u001b[0;34m)\u001b[0m\u001b[0;34m)\u001b[0m\u001b[0;34m\u001b[0m\u001b[0;34m\u001b[0m\u001b[0m\n\u001b[0;32m----> 7\u001b[0;31m \u001b[0mf_o_1\u001b[0m \u001b[0;34m=\u001b[0m \u001b[0mvlad\u001b[0m\u001b[0;34m(\u001b[0m\u001b[0mfeat_in\u001b[0m\u001b[0;34m)\u001b[0m\u001b[0;34m\u001b[0m\u001b[0;34m\u001b[0m\u001b[0m\n\u001b[0m\u001b[1;32m      8\u001b[0m \u001b[0mf_o_2\u001b[0m \u001b[0;34m=\u001b[0m \u001b[0mvlad\u001b[0m\u001b[0;34m(\u001b[0m\u001b[0mfeat_af_in\u001b[0m\u001b[0;34m)\u001b[0m\u001b[0;34m\u001b[0m\u001b[0;34m\u001b[0m\u001b[0m\n",
            "\u001b[0;31mNameError\u001b[0m: name 'vlad' is not defined"
          ]
        }
      ],
      "source": [
        "vlad_before = NetVLAD(cluster_size=32, feature_size=8700,\n",
        "                                            add_batch_norm=True)\n",
        "vlad_after = NetVLAD(cluster_size=32, feature_size=8700,\n",
        "                                            add_batch_norm=True)\n",
        "feat_in = torch.rand((1,30, 8700))\n",
        "feat_af_in = torch.rand((1,30, 8700))\n",
        "f_o_1 = vlad(feat_in)\n",
        "f_o_2 = vlad(feat_af_in)"
      ]
    },
    {
      "cell_type": "code",
      "execution_count": null,
      "metadata": {
        "colab": {
          "base_uri": "https://localhost:8080/"
        },
        "id": "JUKKLEn80iRM",
        "outputId": "2dc18d2f-12c4-43b5-bc29-9773b2d4fd6c"
      },
      "outputs": [
        {
          "name": "stdout",
          "output_type": "stream",
          "text": [
            "torch.Size([1, 1113600])\n"
          ]
        }
      ],
      "source": [
        "inputs_pooled = torch.cat((f_o_1, f_o_2), dim=1)\n",
        "print(inputs_pooled.shape)"
      ]
    },
    {
      "cell_type": "code",
      "execution_count": null,
      "metadata": {
        "id": "Bw01e-9gjfrG"
      },
      "outputs": [],
      "source": [
        "output = self.sigm(self.fc(self.drop(inputs_pooled))) ##output layer of model"
      ]
    },
    {
      "cell_type": "code",
      "execution_count": null,
      "metadata": {
        "id": "sa6e7p5051cV"
      },
      "outputs": [],
      "source": []
    },
    {
      "cell_type": "markdown",
      "metadata": {
        "id": "kU1_fCdD5223"
      },
      "source": [
        "#GPT2"
      ]
    },
    {
      "cell_type": "code",
      "execution_count": null,
      "metadata": {
        "colab": {
          "base_uri": "https://localhost:8080/"
        },
        "id": "Ey1J5J1V56sY",
        "outputId": "47bf00a1-39c6-4621-fe4d-ad9aff7ea8ca"
      },
      "outputs": [
        {
          "name": "stderr",
          "output_type": "stream",
          "text": [
            "Exception ignored in: <function _xla_gc_callback at 0x7fd3af03e0d0>\n",
            "Traceback (most recent call last):\n",
            "  File \"/usr/local/lib/python3.9/dist-packages/jax/_src/lib/__init__.py\", line 97, in _xla_gc_callback\n",
            "    def _xla_gc_callback(*args):\n",
            "KeyboardInterrupt: \n",
            "\n",
            "KeyboardInterrupt\n",
            "\n"
          ]
        }
      ],
      "source": [
        "import torch\n",
        "from transformers import GPT2Tokenizer, GPT2LMHeadModel\n",
        "\n",
        "# Load pre-trained GPT-2 model and tokenizer\n",
        "model_name = 'gpt2'\n",
        "tokenizer = GPT2Tokenizer.from_pretrained(model_name)\n",
        "model = GPT2LMHeadModel.from_pretrained(model_name)\n",
        "\n",
        "# Define appearance features for a video frame\n",
        "frame_features = V # Example random tensor\n",
        "\n",
        "# Flatten appearance features into a one-dimensional vector\n",
        "flat_features = frame_features.flatten()\n",
        "\n",
        "# Convert flattened features to a list of floats\n",
        "feature_list = [float(val) for val in flat_features]\n",
        "\n",
        "# Convert feature list to a tensor\n",
        "features_tensor = torch.tensor(feature_list).unsqueeze(0)\n",
        "\n",
        "# Generate caption from appearance features using GPT-2 model\n",
        "input_ids = tokenizer.encode(\"Frame appearance features:\", add_special_tokens=False) + tokenizer.encode(features_tensor.tolist()[0], add_special_tokens=False)\n",
        "input_ids = torch.tensor(input_ids).unsqueeze(0)\n",
        "outputs = model.generate(input_ids=input_ids, max_length=50, do_sample=True)\n",
        "caption = tokenizer.decode(outputs[0], skip_special_tokens=True)\n",
        "\n",
        "print(\"Caption:\", caption)\n"
      ]
    },
    {
      "cell_type": "code",
      "execution_count": null,
      "metadata": {
        "colab": {
          "base_uri": "https://localhost:8080/",
          "height": 381
        },
        "id": "fqS_hroD7s0h",
        "outputId": "5626dfe2-3bb6-4e0b-ae04-994f05ab4ebb"
      },
      "outputs": [
        {
          "ename": "ValueError",
          "evalue": "ignored",
          "output_type": "error",
          "traceback": [
            "\u001b[0;31m---------------------------------------------------------------------------\u001b[0m",
            "\u001b[0;31mValueError\u001b[0m                                Traceback (most recent call last)",
            "\u001b[0;32m<ipython-input-3-fdc657282c7c>\u001b[0m in \u001b[0;36m<cell line: 2>\u001b[0;34m()\u001b[0m\n\u001b[1;32m      1\u001b[0m \u001b[0;32mimport\u001b[0m \u001b[0mnumpy\u001b[0m \u001b[0;32mas\u001b[0m \u001b[0mnp\u001b[0m\u001b[0;34m\u001b[0m\u001b[0;34m\u001b[0m\u001b[0m\n\u001b[1;32m      2\u001b[0m \u001b[0;32mwith\u001b[0m \u001b[0mopen\u001b[0m\u001b[0;34m(\u001b[0m\u001b[0;34mr'V.npy'\u001b[0m\u001b[0;34m,\u001b[0m \u001b[0;34m'rb'\u001b[0m\u001b[0;34m)\u001b[0m \u001b[0;32mas\u001b[0m \u001b[0mf\u001b[0m\u001b[0;34m:\u001b[0m\u001b[0;34m\u001b[0m\u001b[0;34m\u001b[0m\u001b[0m\n\u001b[0;32m----> 3\u001b[0;31m   \u001b[0mV1\u001b[0m \u001b[0;34m=\u001b[0m \u001b[0mnp\u001b[0m\u001b[0;34m.\u001b[0m\u001b[0mload\u001b[0m\u001b[0;34m(\u001b[0m\u001b[0mf\u001b[0m\u001b[0;34m)\u001b[0m\u001b[0;34m\u001b[0m\u001b[0;34m\u001b[0m\u001b[0m\n\u001b[0m\u001b[1;32m      4\u001b[0m \u001b[0;32mwith\u001b[0m \u001b[0mopen\u001b[0m\u001b[0;34m(\u001b[0m\u001b[0;34mr'T.npy'\u001b[0m\u001b[0;34m,\u001b[0m \u001b[0;34m'rb'\u001b[0m\u001b[0;34m)\u001b[0m \u001b[0;32mas\u001b[0m \u001b[0mf\u001b[0m\u001b[0;34m:\u001b[0m\u001b[0;34m\u001b[0m\u001b[0;34m\u001b[0m\u001b[0m\n\u001b[1;32m      5\u001b[0m   \u001b[0mT1\u001b[0m \u001b[0;34m=\u001b[0m \u001b[0mnp\u001b[0m\u001b[0;34m.\u001b[0m\u001b[0mload\u001b[0m\u001b[0;34m(\u001b[0m\u001b[0mf\u001b[0m\u001b[0;34m)\u001b[0m\u001b[0;34m\u001b[0m\u001b[0;34m\u001b[0m\u001b[0m\n",
            "\u001b[0;32m/usr/local/lib/python3.9/dist-packages/numpy/lib/npyio.py\u001b[0m in \u001b[0;36mload\u001b[0;34m(file, mmap_mode, allow_pickle, fix_imports, encoding)\u001b[0m\n\u001b[1;32m    428\u001b[0m                 \u001b[0;32mreturn\u001b[0m \u001b[0mformat\u001b[0m\u001b[0;34m.\u001b[0m\u001b[0mopen_memmap\u001b[0m\u001b[0;34m(\u001b[0m\u001b[0mfile\u001b[0m\u001b[0;34m,\u001b[0m \u001b[0mmode\u001b[0m\u001b[0;34m=\u001b[0m\u001b[0mmmap_mode\u001b[0m\u001b[0;34m)\u001b[0m\u001b[0;34m\u001b[0m\u001b[0;34m\u001b[0m\u001b[0m\n\u001b[1;32m    429\u001b[0m             \u001b[0;32melse\u001b[0m\u001b[0;34m:\u001b[0m\u001b[0;34m\u001b[0m\u001b[0;34m\u001b[0m\u001b[0m\n\u001b[0;32m--> 430\u001b[0;31m                 return format.read_array(fid, allow_pickle=allow_pickle,\n\u001b[0m\u001b[1;32m    431\u001b[0m                                          pickle_kwargs=pickle_kwargs)\n\u001b[1;32m    432\u001b[0m         \u001b[0;32melse\u001b[0m\u001b[0;34m:\u001b[0m\u001b[0;34m\u001b[0m\u001b[0;34m\u001b[0m\u001b[0m\n",
            "\u001b[0;32m/usr/local/lib/python3.9/dist-packages/numpy/lib/format.py\u001b[0m in \u001b[0;36mread_array\u001b[0;34m(fp, allow_pickle, pickle_kwargs)\u001b[0m\n\u001b[1;32m    784\u001b[0m             \u001b[0marray\u001b[0m \u001b[0;34m=\u001b[0m \u001b[0marray\u001b[0m\u001b[0;34m.\u001b[0m\u001b[0mtranspose\u001b[0m\u001b[0;34m(\u001b[0m\u001b[0;34m)\u001b[0m\u001b[0;34m\u001b[0m\u001b[0;34m\u001b[0m\u001b[0m\n\u001b[1;32m    785\u001b[0m         \u001b[0;32melse\u001b[0m\u001b[0;34m:\u001b[0m\u001b[0;34m\u001b[0m\u001b[0;34m\u001b[0m\u001b[0m\n\u001b[0;32m--> 786\u001b[0;31m             \u001b[0marray\u001b[0m\u001b[0;34m.\u001b[0m\u001b[0mshape\u001b[0m \u001b[0;34m=\u001b[0m \u001b[0mshape\u001b[0m\u001b[0;34m\u001b[0m\u001b[0;34m\u001b[0m\u001b[0m\n\u001b[0m\u001b[1;32m    787\u001b[0m \u001b[0;34m\u001b[0m\u001b[0m\n\u001b[1;32m    788\u001b[0m     \u001b[0;32mreturn\u001b[0m \u001b[0marray\u001b[0m\u001b[0;34m\u001b[0m\u001b[0;34m\u001b[0m\u001b[0m\n",
            "\u001b[0;31mValueError\u001b[0m: cannot reshape array of size 2752496 into shape (54,60,1536)"
          ]
        }
      ],
      "source": [
        "import numpy as np\n",
        "with open(r'V.npy', 'rb') as f:\n",
        "  V1 = np.load(f)\n",
        "with open(r'T.npy', 'rb') as f:\n",
        "  T1 = np.load(f)"
      ]
    },
    {
      "cell_type": "code",
      "execution_count": null,
      "metadata": {
        "id": "grqBbQOY7tEw"
      },
      "outputs": [],
      "source": []
    },
    {
      "cell_type": "code",
      "execution_count": null,
      "metadata": {
        "colab": {
          "base_uri": "https://localhost:8080/"
        },
        "id": "YmBa6arP4Hp7",
        "outputId": "d80ef377-0676-4763-d168-7a0341f98aab"
      },
      "outputs": [
        {
          "name": "stdout",
          "output_type": "stream",
          "text": [
            "Looking in indexes: https://pypi.org/simple, https://us-python.pkg.dev/colab-wheels/public/simple/\n",
            "Collecting transformers\n",
            "  Downloading transformers-4.27.4-py3-none-any.whl (6.8 MB)\n",
            "\u001b[2K     \u001b[90m━━━━━━━━━━━━━━━━━━━━━━━━━━━━━━━━━━━━━━━━\u001b[0m \u001b[32m6.8/6.8 MB\u001b[0m \u001b[31m39.2 MB/s\u001b[0m eta \u001b[36m0:00:00\u001b[0m\n",
            "\u001b[?25hRequirement already satisfied: filelock in /usr/local/lib/python3.9/dist-packages (from transformers) (3.10.7)\n",
            "Requirement already satisfied: regex!=2019.12.17 in /usr/local/lib/python3.9/dist-packages (from transformers) (2022.10.31)\n",
            "Requirement already satisfied: pyyaml>=5.1 in /usr/local/lib/python3.9/dist-packages (from transformers) (6.0)\n",
            "Requirement already satisfied: numpy>=1.17 in /usr/local/lib/python3.9/dist-packages (from transformers) (1.22.4)\n",
            "Collecting tokenizers!=0.11.3,<0.14,>=0.11.1\n",
            "  Downloading tokenizers-0.13.3-cp39-cp39-manylinux_2_17_x86_64.manylinux2014_x86_64.whl (7.8 MB)\n",
            "\u001b[2K     \u001b[90m━━━━━━━━━━━━━━━━━━━━━━━━━━━━━━━━━━━━━━━━\u001b[0m \u001b[32m7.8/7.8 MB\u001b[0m \u001b[31m64.1 MB/s\u001b[0m eta \u001b[36m0:00:00\u001b[0m\n",
            "\u001b[?25hRequirement already satisfied: requests in /usr/local/lib/python3.9/dist-packages (from transformers) (2.27.1)\n",
            "Requirement already satisfied: tqdm>=4.27 in /usr/local/lib/python3.9/dist-packages (from transformers) (4.65.0)\n",
            "Collecting huggingface-hub<1.0,>=0.11.0\n",
            "  Downloading huggingface_hub-0.13.4-py3-none-any.whl (200 kB)\n",
            "\u001b[2K     \u001b[90m━━━━━━━━━━━━━━━━━━━━━━━━━━━━━━━━━━━━━━\u001b[0m \u001b[32m200.1/200.1 kB\u001b[0m \u001b[31m21.4 MB/s\u001b[0m eta \u001b[36m0:00:00\u001b[0m\n",
            "\u001b[?25hRequirement already satisfied: packaging>=20.0 in /usr/local/lib/python3.9/dist-packages (from transformers) (23.0)\n",
            "Requirement already satisfied: typing-extensions>=3.7.4.3 in /usr/local/lib/python3.9/dist-packages (from huggingface-hub<1.0,>=0.11.0->transformers) (4.5.0)\n",
            "Requirement already satisfied: charset-normalizer~=2.0.0 in /usr/local/lib/python3.9/dist-packages (from requests->transformers) (2.0.12)\n",
            "Requirement already satisfied: urllib3<1.27,>=1.21.1 in /usr/local/lib/python3.9/dist-packages (from requests->transformers) (1.26.15)\n",
            "Requirement already satisfied: certifi>=2017.4.17 in /usr/local/lib/python3.9/dist-packages (from requests->transformers) (2022.12.7)\n",
            "Requirement already satisfied: idna<4,>=2.5 in /usr/local/lib/python3.9/dist-packages (from requests->transformers) (3.4)\n",
            "Installing collected packages: tokenizers, huggingface-hub, transformers\n",
            "Successfully installed huggingface-hub-0.13.4 tokenizers-0.13.3 transformers-4.27.4\n"
          ]
        }
      ],
      "source": [
        "pip install transformers"
      ]
    },
    {
      "cell_type": "code",
      "execution_count": null,
      "metadata": {
        "id": "LNR-LA5A4nHw"
      },
      "outputs": [],
      "source": []
    }
  ],
  "metadata": {
    "accelerator": "TPU",
    "colab": {
      "collapsed_sections": [
        "P3D7c2iYZsdJ"
      ],
      "provenance": []
    },
    "gpuClass": "standard",
    "kernelspec": {
      "display_name": "Python 3",
      "name": "python3"
    },
    "language_info": {
      "name": "python"
    }
  },
  "nbformat": 4,
  "nbformat_minor": 0
}